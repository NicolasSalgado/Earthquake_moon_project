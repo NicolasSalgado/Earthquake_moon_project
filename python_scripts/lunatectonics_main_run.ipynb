{
 "cells": [
  {
   "cell_type": "code",
   "execution_count": null,
   "id": "abc2039d",
   "metadata": {},
   "outputs": [],
   "source": [
    "%load_ext autoreload\n",
    "%autoreload 2\n",
    "# Packages that we are going to use in this project\n",
    "import pandas as pd\n",
    "import numpy as np\n",
    "from datetime import datetime, timedelta\n",
    "\n",
    "\n",
    "import sys \n",
    "import os\n",
    "\n",
    "import matplotlib.pyplot as plt\n",
    "import plotly.express as px\n",
    "\n",
    "from statsmodels.tsa.seasonal import seasonal_decompose\n",
    "from statsmodels.graphics.tsaplots import plot_acf\n",
    "\n",
    "from scipy.fftpack import fft\n",
    "from scipy.signal import blackman\n",
    "from scipy.signal import periodogram\n",
    "\n",
    "from sklearn.cluster import KMeans\n",
    "import seaborn as sns; sns.set()\n",
    "from sklearn.preprocessing import MinMaxScaler\n",
    "\n",
    "from functions import *\n",
    "\n",
    "\n",
    "module_path = os.path.abspath(os.path.join('..'))\n",
    "if module_path not in sys.path:\n",
    "    sys.path.append(module_path+\"\\\\df\")\n",
    "from manage_file import FILES, getPath\n",
    "\n",
    "pd.set_option('display.max_rows', None)\n",
    "pd.set_option('display.max_columns', None)\n"
   ]
  },
  {
   "cell_type": "markdown",
   "id": "9c458eb6",
   "metadata": {},
   "source": [
    "## STEP 1: Read & view of the data"
   ]
  },
  {
   "cell_type": "code",
   "execution_count": null,
   "id": "6f79b513-4b02-45e0-aa89-8456e481f0a1",
   "metadata": {},
   "outputs": [],
   "source": [
    "df = read_data(file=\"minable\")"
   ]
  },
  {
   "cell_type": "code",
   "execution_count": null,
   "id": "3a6d5b94-b949-445e-bc43-6d64455d8f35",
   "metadata": {},
   "outputs": [],
   "source": [
    "df.to_csv(\"asd.csv\")"
   ]
  },
  {
   "cell_type": "code",
   "execution_count": null,
   "id": "471821e1",
   "metadata": {},
   "outputs": [],
   "source": [
    "# READ DATA INPUT : earth, moon or minable. Prefer use minable, \n",
    "# that contains earth and moon data, with clustering and interpolation already done\n",
    "df = read_data(file=\"minable\")\n",
    "df = df[df.mag > 4.4]\n",
    "df.head(10)\n",
    "len(df)"
   ]
  },
  {
   "cell_type": "code",
   "execution_count": null,
   "id": "3f60168d-a3fd-403d-a7df-311e7f5b0022",
   "metadata": {},
   "outputs": [],
   "source": [
    "# If you dont want to filter by magnitude, you can set it 0,10 or just erase the parameter, by default is (0,10)\n",
    "df1 = filter_dataframe(df,var=\"dec\", var_range = (-29,29), mag_range=(4.8,10))\n",
    "df1.head(10)"
   ]
  },
  {
   "cell_type": "markdown",
   "id": "77ff6fad",
   "metadata": {},
   "source": [
    "## Filter dataframe"
   ]
  },
  {
   "cell_type": "code",
   "execution_count": null,
   "id": "becdcb03",
   "metadata": {
    "scrolled": true
   },
   "outputs": [],
   "source": [
    "# If you dont want to filter by magnitude, you can set it 0,10 or just erase the parameter, by default is (0,10)\n",
    "#df1 = filter_dataframe(df,var=\"ill_frac_interpolated\", var_range = (40,60), mag_range=(5,10))\n",
    "#df1"
   ]
  },
  {
   "cell_type": "code",
   "execution_count": null,
   "id": "2b868063",
   "metadata": {},
   "outputs": [],
   "source": [
    "# If you dont want to filter by magnitude, you can set it 0,10 or just erase the parameter, by default is (0,10)\n",
    "df2 = filter_dataframe(df1,var=\"ra/h\", var_range = (1,3), mag_range=(4.8,10))\n",
    "df2.head(10)"
   ]
  },
  {
   "cell_type": "code",
   "execution_count": null,
   "id": "30764986",
   "metadata": {},
   "outputs": [],
   "source": [
    "# If you dont want to filter by magnitude, you can set it 0,10 or just erase the parameter, by default is (0,10)\n",
    "df3 = filter_dataframe(df2,var=\"dec\", var_range = (-2,2), mag_range=(4.8,10))\n",
    "df3.head(100)"
   ]
  },
  {
   "cell_type": "code",
   "execution_count": null,
   "id": "8de9b5a5",
   "metadata": {},
   "outputs": [],
   "source": [
    "# If you dont want to filter by magnitude, you can set it 0,10 or just erase the parameter, by default is (0,10)\n",
    "df4 = filter_dataframe(df3,var=\"depth\", var_range = (200,700), mag_range=(4.8,10))\n",
    "df4.head(100)"
   ]
  },
  {
   "cell_type": "code",
   "execution_count": null,
   "id": "1d7cf366",
   "metadata": {},
   "outputs": [],
   "source": [
    "# Plot of number of earthquakes for each period of time.\n",
    "px_histogram(df3, x=\"dec\",color='ra/h', barmode='group',height=400)"
   ]
  },
  {
   "cell_type": "code",
   "execution_count": null,
   "id": "a68f136b",
   "metadata": {},
   "outputs": [],
   "source": [
    "df = df.sort_index()\n",
    "#df_moon.head (20)\n",
    "print (df [13940:13960])"
   ]
  },
  {
   "cell_type": "markdown",
   "id": "9bdd68b0",
   "metadata": {},
   "source": [
    "## STEP 2:  __Frequency for a period of time of earthquakes considering magnitude segmentation.__\n",
    "\n",
    "For ex:\n",
    "* period_length = 10 (every 10 years compare)\n",
    "* mag_seg = {magnitude < 4 |  4<= magnitude < 5 | 5 < magnitude }"
   ]
  },
  {
   "cell_type": "code",
   "execution_count": null,
   "id": "4ae2ff25",
   "metadata": {},
   "outputs": [],
   "source": [
    "######## you must want to change these piece of code ########\n",
    "period_length = 5\n",
    "#############################################################\n",
    "df1 = period_calculation(df1, period_length)# how many earthquakes for each period\n",
    "# in case you dont want to use the filtered dataframe change df1 for df."
   ]
  },
  {
   "cell_type": "code",
   "execution_count": null,
   "id": "98f50571",
   "metadata": {},
   "outputs": [],
   "source": [
    "######## you must want to change these piece of code ########\n",
    "##### also you can not use “/ “ to describe the variable segment, python does not like it, but you must use it as the variable itself , as listed in the index,  \n",
    "#['time', 'year', 'month', 'day', 'latitude', 'longitude', 'mag', 'depth',\n",
    "#       'Pais', 'PERIOD', 'MAG_SEG', 'NewDate', 'NewMonth', 'cluster_label',\n",
    "#       'acum_day', 'ill_frac', 'r/km', 'dec', 'ra/h', 'ra/°',\n",
    "#       'ill_frac_interpolated', 'r/km_interpolated', 'dec_interpolated',\n",
    "#       'td_acc', 'td_acc_interpolated'] #######\n",
    "\n",
    "#mag_seg = {0: [4.5,4.8], 1: [4.8,5.1], 2: [5.1,5.4], 3:[5.4,5.7], 4:[5.7,6], 5:[6,6.6], 6:[6.6,7.5], 7:[7.5,10] }\n",
    "#dec_seg = {0: [-29,-18], 1: [-18,-9], 2: [-9,0], 3:[0,9], 4:[9,18], 5:[18,29]}\n",
    "#depth_seg = {0: [0,20], 1: [20,40], 2: [40,100], 3:[100,200], 4:[200,400], 5:[400,800]}\n",
    "#latitude_seg = {0: [-80,-50], 1: [-50,-28], 2: [-28,-18], 3:[-18,0], 4:[0,18], 5:[18,28], 6:[28,50], 7:[50,80] }\n",
    "#longitude_seg = {0: [-180,-135], 1: [-135,-90], 2: [-90,-45], 3:[-45,0], 4:[0,45], 5:[45,90], 6:[90,135], 7:[135,180] }\n",
    "#ill_frac_seg = {0: [0,20], 1: [20,40], 2: [40,60], 3:[60,80], 4:[80,100]}\n",
    "#rah_seg = {0: [0,3], 1: [3,6], 2: [6,9], 3:[9,12], 4:[12,15], 5:[15,18], 6:[18,21], 7:[21,24] }\n",
    "#rkm_seg = {0: [350000,360000], 1: [360000,370000], 2: [370000,380000], 3:[380000,390000], 4:[390000,400000], 5:[400000,402000], 6:[402000,410000]}\n",
    "#td_acc_seg = {0: [0.3,0.7], 1: [0.7,1], 2: [1,1.3], 3:[1.3,1.6], 4:[1.6,2]}\n",
    "\n",
    "##acum_day_seg = {0: [0,91], 1:[91,182], 2:[182,273], 3: [273,366] }\n",
    "acum_day_seg = {0: [355,20], 1:[20,50], 2:[50,81], 3: [81,111], 4:[111,141], 5: [141,172], 6:[172,202], 7: [202,232], 8: [232,263], 9: [263,293], 10: [293,324], 11:[324,355] }\n",
    "mag_seg = {0: [4.5,4.8], 1: [4.8,5.1], 2: [5.1,5.4], 3:[5.4,5.7], 4:[5.7,6], 5:[6,6.6], 6:[6.6,7.5], 7:[7.5,7.9], 8:[8,10] }\n",
    "#mag_seg = {0: [6.99,9.5]}\n",
    "#dec_seg = {0: [-29,-18], 1: [-18,-4], 2: [-4,4], 3:[4,18], 4:[18,29]}\n",
    "#dec_seg = {0: [-29,-18], 1: [-18,-0], 2: [0,18], 3:[18,129]}\n",
    "dec_seg = {0: [-29,-18.134], 1: [-18.134,-9.0], 2:[-9,-3], 3:[-3,3], 4: [3,9], 5: [9,18.134], 6:[18.134,29] }\n",
    "##dec_seg = {0: [-29,0], 1: [0,29]}\n",
    "#dec_seg = {0: [-7,-6], 1: [-6,-5], 2: [-5,-4], 3: [-4,-3], 4: [-3,-2], 5: [-2,-1], 6:[-1,0], 7: [0,1], 8: [1,2], 9: [2,3], 10: [3,4], 11: [4,5], 12: [5,6], 13: [6,7] }\n",
    "##dec_seg = {0: [-29,29]}\n",
    "##depth_seg = {0: [0,20], 1: [20,40], 2: [40,100], 3:[100,200], 4:[200,400], 5:[400,800]}\n",
    "depth_seg = {0: [0,20], 1: [20,40], 2: [40,100], 3:[100,200], 4:[200,300], 5:[300,400], 6:[400,500], 7:[500,600], 8:[600,700], 9:[700,800]}\n",
    "latitude_seg = {0: [-90,-50], 1: [-50,-28], 2: [-28,-18], 3:[-18,0], 4:[0,18], 5:[18,28], 6:[28,50], 7:[50,90] }\n",
    "longitude_seg = {0: [-180,-135], 1: [-135,-90], 2: [-90,-45], 3:[-45,0], 4:[0,45], 5:[45,90], 6:[90,135], 7:[135,180] }\n",
    "##ill_frac_seg = {0: [0,10], 1: [10,27.5], 2: [27.5,45], 3:[45,55], 4:[55,72.5], 5:[72.5,90], 6:[90,100]}\n",
    "ill_frac_seg = {0: [0,10], 1: [10,22], 2: [22,33], 3:[33,45], 4:[45,55], 5:[55,67], 6:[67,78], 7:[78,90], 8:[90,100]}\n",
    "##ill_frac_seg = {0: [0,10], 1: [10,40], 2: [40,60], 3:[60,90], 4:[90,100]}\n",
    "##rah_seg = {0: [0,3], 1: [3,6], 2: [6,9], 3:[9,12], 4:[12,15], 5:[15,18], 6:[18,21], 7:[21,24] }\n",
    "rah_seg = {0: [23,1], 1: [1,3], 2: [3,5], 3:[5,7], 4:[7,9], 5:[9,11], 6:[11,13], 7:[13,15], 8:[15,17], 9:[17,19], 10:[19,21], 11:[21,23] }\n",
    "##rad_seg = {0: [0,30], 1: [30,60], 2: [60,90], 3:[90,120], 4:[120,150], 5:[150,180], 6:[180,210], 7:[210,240], 8:[240,270], 9:[270,300], 10:[300,330], 11:[330,360] }\n",
    "rad_seg = {0: [0,15], 1: [15,30], 2: [30,45], 3:[45,60], 4:[60,75], 5:[75,90], 6:[90,105], 7:[105,120], 8:[120,135], 9:[135,150], 10:[150,165], 11:[165,180], 12:[180,195], 13:[195,210], 14:[210,225], 15:[225,240], 16:[240,255], 17:[255,270], 18:[270,285], 19:[285,300], 20:[300,315], 21:[315,330], 22:[330,345], 23:[345,360] }\n",
    "##rkm_seg = {0: [350000,360000], 1: [360000,370000], 2: [370000,380000], 3:[380000,390000], 4:[390000,400000], 5:[400000,410000]}\n",
    "rkm_seg = {0: [356000,358000], 1: [358000,360000], 2:[360000,362000], 3: [362000,364000], 4:[364000,366000], 5: [366000,368000], 6:[368000,370000], 7: [370000,372000], 8: [372000,374000], 9:[374000,376000], 10: [376000,378000], 11:[378000,380000], 12: [380000,382000], 13:[382000,384000], 14:[384000,386000], 15:[386000,388000], 16:[388000,390000], 17:[390000,392000], 18:[392000,394000], 19:[394000,396000], 20:[396000,398000], 21:[398000,400000], 22:[400000,402000], 23:[402000,404000], 24:[404000,405000], 25:[405000,406000], 26:[406000,406500], 27:[406500,407000] }\n",
    "##rkm_seg = {0: [350000,410000]}\n",
    "##rkm_seg = {0: [403000,403500], 1: [403500,404000], 2:[404000,404500], 3: [405000,405500], 4:[405500,406000], 5: [406000,406500], 6:[406500,407000] }\n",
    "##rkm_interpolated_seg = {0: [400000,403500], 1: [403500,404000], 2:[404000,404500], 3: [405000,405500], 4:[405500,406000], 5: [406000,406500], 6:[406500,407000] }\n",
    "##rkm_seg = {0: [370000,374000], 1: [374000,378000], 2:[378000,382000], 3: [382000,386000], 4:[386000,390000], 5: [390000,394000], 6:[394000,398000], 7:[398000,402000] }\n",
    "##rkm_seg = {0: [356000,369700], 1: [369700,376000], 2:[376000,382000], 3: [382000,388000], 4: [388000,395000], 5:[395000,402000], 6: [402000,407000] }\n",
    "##rkm_seg = {0: [356000,357000], 1: [357000,360000], 2:[360000,362000], 3: [362000,364000], 4:[364000,366000], 5: [366000,368000], 6:[368000,370000] }\n",
    "##rkm_seg = {0: [356000,358000], 1: [358000,360000], 2:[360000,362000], 3: [362000,364000], 4:[364000,366000], 5: [366000,368000], 6:[368000,370000], 7: [370000,374000], 8: [374000,378000], 9:[378000,382000], 10: [382000,386000], 11:[386000,390000], 12: [390000,394000], 13:[394000,398000], 14:[398000,402000], 15:[402000,404000], 16:[404000,405000], 17:[405000,406000], 18:[406000,406500], 19: [406500,407000] }\n",
    "td_acc_seg = {0: [0.3,0.8], 1: [0.8,1], 2: [1,1.4], 3:[1.4,1.6], 4:[1.6,2]}\n",
    "\n",
    "\n",
    "segmentations = {\"mag\": mag_seg, \"dec\": dec_seg, \"dec_interpolated\": dec_seg, \"depth\":depth_seg, \"acum_day\":acum_day_seg, \"latitude\": latitude_seg, \"longitude\": longitude_seg,\n",
    "                \"ill_frac\": ill_frac_seg, \"ill_frac_interpolated\": ill_frac_seg, \"ra/°\": rad_seg, \"ra/h\": rah_seg, \"r/km\": rkm_seg, \"r/km_interpolated\": rkm_seg, \"td_acc_interpolated\": td_acc_seg, \"td_acc\": td_acc_seg}\n",
    "\n",
    "#############################################################\n",
    "for key, value in segmentations.items():\n",
    "    df1 = variable_segmentation(df1, var_seg=value, var=key)\n"
   ]
  },
  {
   "cell_type": "code",
   "execution_count": null,
   "id": "938d1417-eef3-47aa-ad01-7a0c143f3ed3",
   "metadata": {},
   "outputs": [],
   "source": [
    "df1[\"ILL_FRAC_SEG\"].value_counts()"
   ]
  },
  {
   "cell_type": "code",
   "execution_count": null,
   "id": "69f2f17d-8464-4f79-a6bb-d22006a4c6d2",
   "metadata": {},
   "outputs": [],
   "source": [
    "50628/len(df1)"
   ]
  },
  {
   "cell_type": "code",
   "execution_count": null,
   "id": "ff0a7e39",
   "metadata": {},
   "outputs": [],
   "source": [
    "df.columns"
   ]
  },
  {
   "cell_type": "markdown",
   "id": "fe03bfcf",
   "metadata": {},
   "source": [
    "## Histograms Plots"
   ]
  },
  {
   "cell_type": "code",
   "execution_count": null,
   "id": "d74e20ba",
   "metadata": {},
   "outputs": [],
   "source": [
    "# Histogram plot to see the count of earthquakes of each mag_seg for all the periods\n",
    "px_histogram(df1, x=\"RA/°_SEG\", color='DEC_SEG', barmode='stack', height=400)\n"
   ]
  },
  {
   "cell_type": "code",
   "execution_count": null,
   "id": "fda539e3",
   "metadata": {},
   "outputs": [],
   "source": [
    "# Histogram plot to see the count of earthquakes of each mag_seg for all the periods\n",
    "px_histogram(df2, x=\"RA/°_SEG\", color='DEC_SEG', barmode='stack', height=400)\n"
   ]
  },
  {
   "cell_type": "code",
   "execution_count": null,
   "id": "91104a34",
   "metadata": {},
   "outputs": [],
   "source": [
    "distribution_plot(df1, var=\"ra/h\", specific_cluster=None)\n",
    "##df.head(10)"
   ]
  },
  {
   "cell_type": "code",
   "execution_count": null,
   "id": "93ef9270",
   "metadata": {},
   "outputs": [],
   "source": [
    "df1[\"RA/H_SEG\"].value_counts(5)\n",
    "#len(df)"
   ]
  },
  {
   "cell_type": "code",
   "execution_count": null,
   "id": "3c567db6",
   "metadata": {},
   "outputs": [],
   "source": [
    "# Histogram plot to see the count of earthquakes of each mag_seg for all the periods\n",
    "px_histogram(df1, x=\"DEC_SEG\", color='RA/H_SEG', barmode='group', height=400)"
   ]
  },
  {
   "cell_type": "code",
   "execution_count": null,
   "id": "3d5fdd28",
   "metadata": {},
   "outputs": [],
   "source": [
    "# Histogram plot to see the count of earthquakes of each mag_seg for all the periods\n",
    "px_histogram(df1, x=\"RA/H_SEG\", color='DEC_SEG', barmode='stack', height=400)"
   ]
  },
  {
   "cell_type": "code",
   "execution_count": null,
   "id": "7222139f",
   "metadata": {},
   "outputs": [],
   "source": [
    "# Plot of number of earthquakes for each period of time.\n",
    "px_histogram(df1, x=\"PERIOD\",color='DEC_SEG', barmode='stack',height=400)"
   ]
  },
  {
   "cell_type": "code",
   "execution_count": null,
   "id": "4883a183",
   "metadata": {},
   "outputs": [],
   "source": [
    "# Histogram plot to see the count of earthquakes of each mag_seg for all the periods and alot more\n",
    "px_histogram(df1, x=\"ACUM_DAY_SEG\", color= 'DEC_SEG', barmode='stack', height=400)\n"
   ]
  },
  {
   "cell_type": "code",
   "execution_count": null,
   "id": "ca7af422",
   "metadata": {},
   "outputs": [],
   "source": [
    "# Histogram plot to see the count of earthquakes of each mag_seg for all the periods and alot more\n",
    "px_histogram(df1, x=\"RA/H_SEG\", color= 'ACUM_DAY_SEG', barmode='stack', height=400)"
   ]
  },
  {
   "cell_type": "code",
   "execution_count": null,
   "id": "34262b80",
   "metadata": {},
   "outputs": [],
   "source": [
    "# Histogram plot to see the count of earthquakes of each mag_seg for all the periods and alot more\n",
    "px_histogram(df1, x=\"ILL_FRAC_SEG\", color= 'RA/H_SEG', barmode='stack', height=400)"
   ]
  },
  {
   "cell_type": "code",
   "execution_count": null,
   "id": "1f77249e",
   "metadata": {},
   "outputs": [],
   "source": [
    "# Histogram plot to see the count of earthquakes of each mag_seg for all the periods and alot more\n",
    "px_histogram(df1, x=\"ACUM_DAY_SEG\", color= 'RA/H_SEG', barmode='stack', height=400)"
   ]
  },
  {
   "cell_type": "code",
   "execution_count": null,
   "id": "fa04ac08",
   "metadata": {},
   "outputs": [],
   "source": [
    "# Histogram plot to see the count of earthquakes of each mag_seg for all the periods and alot more\n",
    "px_histogram(df1, x=\"RA/H_SEG\", color= 'ACUM_DAY_SEG', barmode='stack', height=400)"
   ]
  },
  {
   "cell_type": "code",
   "execution_count": null,
   "id": "9de4bbe4",
   "metadata": {},
   "outputs": [],
   "source": [
    "# Histogram plot to see the count of earthquakes of each mag_seg for all the periods and alot more\n",
    "px_histogram(df1, x=\"ILL_FRAC_SEG\", color= 'ACUM_DAY_SEG', barmode='stack', height=400)"
   ]
  },
  {
   "cell_type": "code",
   "execution_count": null,
   "id": "a1708124",
   "metadata": {},
   "outputs": [],
   "source": [
    "# Histogram plot to see the count of earthquakes of each mag_seg for all the periods and alot more\n",
    "px_histogram(df1, x=\"ACUM_DAY_SEG\", color= 'ILL_FRAC_SEG', barmode='stack', height=400)"
   ]
  },
  {
   "cell_type": "code",
   "execution_count": null,
   "id": "64ba2857",
   "metadata": {},
   "outputs": [],
   "source": [
    "# Plot of number of earthquakes for each period of time.\n",
    "px_histogram(df1, x=\"ILL_FRAC_INTERPOLATED_SEG\",color='R/KM_INTERPOLATED_SEG', barmode='stack',height=400)"
   ]
  },
  {
   "cell_type": "code",
   "execution_count": null,
   "id": "b0c996a2",
   "metadata": {},
   "outputs": [],
   "source": [
    "# Plot of number of earthquakes for each period of time.\n",
    "px_histogram(df1, x=\"RA/°_SEG\",color='ILL_FRAC_INTERPOLATED_SEG', barmode='stack',height=400)"
   ]
  },
  {
   "cell_type": "code",
   "execution_count": null,
   "id": "e5ff5a5a",
   "metadata": {},
   "outputs": [],
   "source": [
    "# Plot of number of earthquakes for each period of time.\n",
    "px_histogram(df1, x=\"RA/°_SEG\",color='ILL_FRAC_INTERPOLATED_SEG', barmode='group',height=400)"
   ]
  },
  {
   "cell_type": "code",
   "execution_count": null,
   "id": "dd8c30cf",
   "metadata": {},
   "outputs": [],
   "source": [
    "# Plot of number of earthquakes for each period of time.\n",
    "px_histogram(df1, x=\"ILL_FRAC_INTERPOLATED_SEG\",color='RA/°_SEG', barmode='stack',height=400)"
   ]
  },
  {
   "cell_type": "code",
   "execution_count": null,
   "id": "a83a5e84",
   "metadata": {},
   "outputs": [],
   "source": [
    "# Plot of number of earthquakes for each period of time.\n",
    "px_histogram(df1, x=\"ILL_FRAC_INTERPOLATED_SEG\",color='RA/°_SEG', barmode='group',height=400)"
   ]
  },
  {
   "cell_type": "code",
   "execution_count": null,
   "id": "ceace2db",
   "metadata": {},
   "outputs": [],
   "source": [
    "# Plot of number of earthquakes for each period of time.\n",
    "px_histogram(df1, x=\"ILL_FRAC_INTERPOLATED_SEG\",color='RA/H_SEG', barmode='group',height=400)"
   ]
  },
  {
   "cell_type": "code",
   "execution_count": null,
   "id": "37451b83",
   "metadata": {},
   "outputs": [],
   "source": [
    "# Plot of number of earthquakes for each period of time.\n",
    "px_histogram(df1, x=\"TD_ACC_INTERPOLATED_SEG\",color='ILL_FRAC_SEG', barmode='stack',height=400)"
   ]
  },
  {
   "cell_type": "code",
   "execution_count": null,
   "id": "077c3a6a",
   "metadata": {},
   "outputs": [],
   "source": [
    "# Plot of number of earthquakes for each period of time.\n",
    "px_histogram(df1, x=\"ILL_FRAC_INTERPOLATED_SEG\",color='TD_ACC_INTERPOLATED_SEG', barmode='stack',height=400)"
   ]
  },
  {
   "cell_type": "code",
   "execution_count": null,
   "id": "a21ff7ba",
   "metadata": {},
   "outputs": [],
   "source": [
    "# Plot of number of earthquakes for each period of time.\n",
    "px_histogram(df1, x=\"R/KM_INTERPOLATED_SEG\",color='TD_ACC_INTERPOLATED_SEG', barmode='stack',height=400)"
   ]
  },
  {
   "cell_type": "code",
   "execution_count": null,
   "id": "7d312401",
   "metadata": {},
   "outputs": [],
   "source": [
    "# Plot of number of earthquakes for each period of time.\n",
    "px_histogram(df1, x=\"TD_ACC_INTERPOLATED_SEG\",color='R/KM_INTERPOLATED_SEG', barmode='stack',height=400)"
   ]
  },
  {
   "cell_type": "code",
   "execution_count": null,
   "id": "c0911f3b",
   "metadata": {},
   "outputs": [],
   "source": [
    "# Plot of number of earthquakes for each period of time.\n",
    "px_histogram(df1, x=\"ILL_FRAC_INTERPOLATED_SEG\",color='R/KM_INTERPOLATED_SEG', barmode='group',height=400)"
   ]
  },
  {
   "cell_type": "code",
   "execution_count": null,
   "id": "ccc542b6",
   "metadata": {},
   "outputs": [],
   "source": [
    "# Plot of number of earthquakes for each period of time.\n",
    "px_histogram(df1, x=\"R/KM_INTERPOLATED_SEG\",color='ILL_FRAC_INTERPOLATED_SEG', barmode='group',height=400)"
   ]
  },
  {
   "cell_type": "code",
   "execution_count": null,
   "id": "d38a8fc3",
   "metadata": {},
   "outputs": [],
   "source": [
    "# Plot of number of earthquakes for each period of time.\n",
    "px_histogram(df1, x=\"R/KM_INTERPOLATED_SEG\",color='ILL_FRAC_INTERPOLATED_SEG', barmode='stack',height=400)"
   ]
  },
  {
   "cell_type": "code",
   "execution_count": null,
   "id": "b7074f71",
   "metadata": {},
   "outputs": [],
   "source": [
    "# Plot of number of earthquakes for each period of time.\n",
    "px_histogram(df1, x=\"ILL_FRAC_INTERPOLATED_SEG\",color='R/KM_INTERPOLATED_SEG', barmode='stack',height=400)"
   ]
  },
  {
   "cell_type": "code",
   "execution_count": null,
   "id": "b24259e5",
   "metadata": {},
   "outputs": [],
   "source": [
    "# Plot of number of earthquakes for each period of time.\n",
    "px_histogram(df1, x=\"DEPTH_SEG\",color='cluster_label', barmode='stack',height=400)"
   ]
  },
  {
   "cell_type": "code",
   "execution_count": null,
   "id": "8fc0006b",
   "metadata": {},
   "outputs": [],
   "source": [
    "# Plot of number of earthquakes for each period of time.\n",
    "px_histogram(df1, x=\"ILL_FRAC_SEG\",color='MAG_SEG', barmode='stack',height=400)"
   ]
  },
  {
   "cell_type": "code",
   "execution_count": null,
   "id": "92e1ad70",
   "metadata": {},
   "outputs": [],
   "source": [
    "# Plot of number of earthquakes for each period of time.\n",
    "px_histogram(df1, x=\"ILL_FRAC_SEG\",color='cluster_label', barmode='group',height=400)"
   ]
  },
  {
   "cell_type": "code",
   "execution_count": null,
   "id": "089dd343",
   "metadata": {},
   "outputs": [],
   "source": [
    "# Plot of number of earthquakes for each period of time.\n",
    "px_histogram(df1, x=\"cluster_label\",color='ILL_FRAC_SEG', barmode='stack',height=400)"
   ]
  },
  {
   "cell_type": "code",
   "execution_count": null,
   "id": "120b0e16",
   "metadata": {},
   "outputs": [],
   "source": [
    "# Plot of number of earthquakes for each period of time.\n",
    "px_histogram(df1, x=\"ILL_FRAC_SEG\",color='DEPTH_SEG', barmode='stack',height=400)"
   ]
  },
  {
   "cell_type": "code",
   "execution_count": null,
   "id": "897eb005",
   "metadata": {},
   "outputs": [],
   "source": [
    "# Plot of number of earthquakes for each period of time.\n",
    "px_histogram(df1, x=\"LATITUDE_SEG\",color='TD_ACC_INTERPOLATED_SEG', barmode='stack',height=400)"
   ]
  },
  {
   "cell_type": "code",
   "execution_count": null,
   "id": "904815eb",
   "metadata": {},
   "outputs": [],
   "source": [
    "# Plot of number of earthquakes for each period of time.\n",
    "px_histogram(df1, x=\"PERIOD\",color='DEC_SEG', barmode='stack',height=400)"
   ]
  },
  {
   "cell_type": "code",
   "execution_count": null,
   "id": "041c61a6",
   "metadata": {},
   "outputs": [],
   "source": [
    "# Histogram groupby monthly\n",
    "histogram_monthly(df1, date_off_set=False, bool_mag_seg=False)"
   ]
  },
  {
   "cell_type": "code",
   "execution_count": null,
   "id": "53ebd607",
   "metadata": {},
   "outputs": [],
   "source": [
    "plot_monthly(df1,years=(1973,1978))"
   ]
  },
  {
   "cell_type": "markdown",
   "id": "5687fe2b",
   "metadata": {},
   "source": [
    "## Increasing by country"
   ]
  },
  {
   "cell_type": "code",
   "execution_count": null,
   "id": "689ab472",
   "metadata": {
    "scrolled": true
   },
   "outputs": [],
   "source": [
    "# Count amount of earthquakes of each country\n",
    "countries_value_counts(df1)"
   ]
  },
  {
   "cell_type": "code",
   "execution_count": null,
   "id": "72916d73",
   "metadata": {},
   "outputs": [],
   "source": [
    "######## you must want to change these piece of code ########\n",
    "countries = [\"Indonesia\", \"Japan\", \"Chile\", \"No_Country\"]\n",
    "#############################################################\n",
    "histogram_countries(df1, countries)"
   ]
  },
  {
   "cell_type": "markdown",
   "id": "752da85f",
   "metadata": {},
   "source": [
    "### Plot map \"No_country\" "
   ]
  },
  {
   "cell_type": "code",
   "execution_count": null,
   "id": "0e309296",
   "metadata": {},
   "outputs": [],
   "source": [
    "df1 = df[df.Pais == \"No_Country\"]\n",
    "plot_map(df1, clusters=True)\n",
    "# punto de extraccion de la data de la luna."
   ]
  },
  {
   "cell_type": "markdown",
   "id": "54318ce1",
   "metadata": {},
   "source": [
    "### Trendline for magnitude segments"
   ]
  },
  {
   "cell_type": "code",
   "execution_count": null,
   "id": "85d6bf1f",
   "metadata": {},
   "outputs": [],
   "source": [
    "trendline_calculations(df1)"
   ]
  },
  {
   "cell_type": "markdown",
   "id": "0bd9faab",
   "metadata": {},
   "source": [
    "### Clustering"
   ]
  },
  {
   "cell_type": "code",
   "execution_count": null,
   "id": "65e9fa63",
   "metadata": {
    "scrolled": true
   },
   "outputs": [],
   "source": [
    "#df = calculate_clustering(df, normalized=False)\n",
    "df1.cluster_label.value_counts()"
   ]
  },
  {
   "cell_type": "code",
   "execution_count": null,
   "id": "fde9caee",
   "metadata": {},
   "outputs": [],
   "source": [
    "df.columns"
   ]
  },
  {
   "cell_type": "code",
   "execution_count": null,
   "id": "78c938a2",
   "metadata": {},
   "outputs": [],
   "source": [
    "plot_map(df1, clusters=True)"
   ]
  },
  {
   "cell_type": "code",
   "execution_count": null,
   "id": "38ba97da",
   "metadata": {},
   "outputs": [],
   "source": [
    "plot_map(df3, clusters=True)"
   ]
  },
  {
   "cell_type": "code",
   "execution_count": null,
   "id": "1cbb3295",
   "metadata": {},
   "outputs": [],
   "source": [
    "series_trend, negative_trend = trendline_calculations(df1,cluster=True)"
   ]
  },
  {
   "cell_type": "code",
   "execution_count": null,
   "id": "791cb3de",
   "metadata": {},
   "outputs": [],
   "source": [
    "# Plot map on negative trendline cluster\n",
    "######## you must want to change these piece of code ########\n",
    "clusters_toplot = list(negative_trend.keys()) # [48,8,46,18] for example\n",
    "#clusters_toplot = [3,14]\n",
    "#############################################################\n",
    "plot_map(df1, clusters=True, specific_clusters=clusters_toplot)"
   ]
  },
  {
   "cell_type": "code",
   "execution_count": null,
   "id": "16921819",
   "metadata": {},
   "outputs": [],
   "source": [
    "plot_map_animation(df3, specific_clusters=[], animation_frame=\"year\")"
   ]
  },
  {
   "cell_type": "code",
   "execution_count": null,
   "id": "4b4cfc26",
   "metadata": {},
   "outputs": [],
   "source": [
    "specific_cluster_info(df3, 3 )"
   ]
  },
  {
   "cell_type": "code",
   "execution_count": null,
   "id": "0968e5d6",
   "metadata": {},
   "outputs": [],
   "source": [
    "# histogram by specific clusters\n",
    "# df3.cluster_label.unique().tolist()\n",
    "clusters = df3.cluster_label.unique().tolist()\n",
    "##histogram_cluster(df3,clusters)\n",
    "px_histogram(df3, x=\"dec\",color='cluster_label', barmode='group',height=400)\n",
    "##df1[\"specific_cluster_info\"].value_counts()"
   ]
  },
  {
   "cell_type": "code",
   "execution_count": null,
   "id": "8bcc0563",
   "metadata": {},
   "outputs": [],
   "source": [
    "# histogram by specific clusters\n",
    "clusters = [47,43,16,37,41,5]\n",
    "histogram_cluster(df3,clusters)"
   ]
  },
  {
   "cell_type": "code",
   "execution_count": null,
   "id": "4cfdc8a6",
   "metadata": {},
   "outputs": [],
   "source": [
    "histogram_overtime(df1, var=\"ill_frac_interpolated\", specific_cluster=[37,5], animation_frame=\"year\")\n",
    "#animation_frame=\"MAG_SEG\", \"PERIOD\", \"YEAR\"... any column name of categories"
   ]
  },
  {
   "cell_type": "markdown",
   "id": "ae264de9",
   "metadata": {},
   "source": [
    "## Moon correlation\n",
    "\n",
    "### Calculate distribution of r/km and ill_frac of the moon interpolated in earthquakes"
   ]
  },
  {
   "cell_type": "code",
   "execution_count": null,
   "id": "04b6bb1f",
   "metadata": {
    "scrolled": true
   },
   "outputs": [],
   "source": [
    "\"\"\"\n",
    "Parameters:\n",
    "        df (pandas.DataFrame): A pandas DataFrame object.\n",
    "        columns (list): list of columns.\n",
    "        step_quantile (float): The step between each quantile to compute. Default is 0.25.\n",
    "        clusters (list): list of clusters of interest. [] by default.\n",
    "\"\"\"\n",
    "\n",
    "\n",
    "describe_columns(df3, [\"ra/h\", \"r/km_interpolated\", \"ill_frac_interpolated\", \"dec_interpolated\", \"td_acc\", \"acum_day\"],\n",
    "                 step_quantile=0.01, clusters=[]) #clusters= list(negative_trend.keys())\n"
   ]
  },
  {
   "cell_type": "code",
   "execution_count": null,
   "id": "a111cba0",
   "metadata": {},
   "outputs": [],
   "source": [
    "calculo_distribution(df1,var = \"dec_interpolated\", num_bins=100, specific_cluster=None)"
   ]
  },
  {
   "cell_type": "code",
   "execution_count": null,
   "id": "1f7cada5",
   "metadata": {},
   "outputs": [],
   "source": [
    "distribution_plot(df1, var=\"dec_interpolated\", specific_cluster=None)\n",
    "##df.head(10)"
   ]
  },
  {
   "cell_type": "code",
   "execution_count": null,
   "id": "5017ee11",
   "metadata": {},
   "outputs": [],
   "source": [
    "distribution_plot(df1, var=\"dec\", specific_cluster=None)\n",
    "##df.head(10)"
   ]
  },
  {
   "cell_type": "code",
   "execution_count": null,
   "id": "3a1cf680",
   "metadata": {},
   "outputs": [],
   "source": [
    "distribution_plot(df1, var=\"acum_day\", specific_cluster=None)\n",
    "df1.acum_day.value_counts()"
   ]
  },
  {
   "cell_type": "code",
   "execution_count": null,
   "id": "c1addea0",
   "metadata": {},
   "outputs": [],
   "source": [
    "distribution_plot(df1, var=\"year\", specific_cluster=None)\n",
    "df1.year.value_counts()"
   ]
  },
  {
   "cell_type": "code",
   "execution_count": null,
   "id": "bb37fd4f",
   "metadata": {},
   "outputs": [],
   "source": [
    "distribution_plot(df1, var=\"ill_frac\", specific_cluster=None)"
   ]
  },
  {
   "cell_type": "code",
   "execution_count": null,
   "id": "8f08816b",
   "metadata": {},
   "outputs": [],
   "source": [
    "distribution_plot(df1, var=\"ACUM_DAY_SEG\", specific_cluster=None)"
   ]
  },
  {
   "cell_type": "code",
   "execution_count": null,
   "id": "a48d3e6f",
   "metadata": {},
   "outputs": [],
   "source": [
    "df1[\"ACUM_DAY_SEG\"].value_counts()"
   ]
  },
  {
   "cell_type": "code",
   "execution_count": null,
   "id": "63da2ed6",
   "metadata": {},
   "outputs": [],
   "source": [
    "50628/len(df1)\n"
   ]
  },
  {
   "cell_type": "code",
   "execution_count": null,
   "id": "9fd01949",
   "metadata": {},
   "outputs": [],
   "source": [
    "df1.head(10)"
   ]
  },
  {
   "cell_type": "code",
   "execution_count": null,
   "id": "817ef56c",
   "metadata": {},
   "outputs": [],
   "source": [
    "plot_calculo_distribution(df1, var=\"DEPTH_SEG\", histnorm=\"percent\", num_bins=10, specific_cluster=None)"
   ]
  },
  {
   "cell_type": "code",
   "execution_count": null,
   "id": "1359a001",
   "metadata": {},
   "outputs": [],
   "source": [
    "df.columns"
   ]
  },
  {
   "cell_type": "code",
   "execution_count": null,
   "id": "51213bbc",
   "metadata": {},
   "outputs": [],
   "source": [
    "plot_calculo_distribution(df1, var=\"depth\", histnorm=\"\", num_bins=60, specific_cluster=None)"
   ]
  },
  {
   "cell_type": "code",
   "execution_count": null,
   "id": "954fb220",
   "metadata": {},
   "outputs": [],
   "source": [
    "histogram_animation(df1, var=\"depth\", histnorm=\"\",animation_frame=\"year\", nbins=200, \n",
    "                   range_x=[0,700], range_y=[0,2000] )\n",
    "# nbins if you want by default write None.\n",
    "# range_x and range_y by default None, and will be like it was before, if you want to change set a list with two numbers\n",
    "#animation_frame=\"MAG_SEG\", \"PERIOD\", \"YEAR\"... any column name of categories"
   ]
  },
  {
   "cell_type": "code",
   "execution_count": null,
   "id": "e1143f21",
   "metadata": {},
   "outputs": [],
   "source": [
    "histogram_animation(df, var=\"mag\", histnorm=\"\",animation_frame=\"year\", nbins=50, \n",
    "                   range_x=[4.4,10], range_y=[0,2200] )\n",
    "# nbins if you want by default write None.\n",
    "# range_x and range_y by default None, and will be like it was before, if you want to change set a list with two numbers\n",
    "#animation_frame=\"MAG_SEG\", \"PERIOD\", \"YEAR\"... any column name of categories"
   ]
  },
  {
   "cell_type": "code",
   "execution_count": null,
   "id": "a31114fc",
   "metadata": {},
   "outputs": [],
   "source": [
    "histogram_animation(df, var=\"dec\", histnorm=\"\",animation_frame=\"year\", nbins=100, \n",
    "                   range_x=[-29,29], range_y=[0,600] )\n",
    "# nbins if you want by default write None.\n",
    "# range_x and range_y by default None, and will be like it was before, if you want to change set a list with two numbers\n",
    "#animation_frame=\"MAG_SEG\", \"PERIOD\", \"YEAR\"... any column name of categories"
   ]
  },
  {
   "cell_type": "code",
   "execution_count": null,
   "id": "ce6cb948",
   "metadata": {},
   "outputs": [],
   "source": [
    "count_number_days(var=\"ill_frac\", range_var=[0,100])"
   ]
  },
  {
   "cell_type": "code",
   "execution_count": null,
   "id": "f5307a91",
   "metadata": {},
   "outputs": [],
   "source": [
    "# Distribution KDE plot for a varaible for earthquake data and moon data.\n",
    "df_moon = read_data(file=\"moon\")\n",
    "distribution_plot(df, df_moon, var=\"td_acc\")"
   ]
  },
  {
   "cell_type": "code",
   "execution_count": null,
   "id": "223fcf28",
   "metadata": {},
   "outputs": [],
   "source": [
    "# date_filt is in the order \"YYYY-mm-dd\"\n",
    "df3 = filter_by_date(df1, date_filt=\"2011-02-25\", nweeks=4)"
   ]
  },
  {
   "cell_type": "code",
   "execution_count": null,
   "id": "7c20f836",
   "metadata": {},
   "outputs": [],
   "source": [
    "plot_map_animation(df3,animation_frame=\"day\")"
   ]
  },
  {
   "cell_type": "code",
   "execution_count": null,
   "id": "c779be84",
   "metadata": {},
   "outputs": [],
   "source": [
    "describe_columns(df1, [\"r/km_interpolated\", \"ill_frac_interpolated\", \"td_acc_interpolated\",\"dec_interpolated\", \"acum_day\"],\n",
    "                 step_quantile=0.05, clusters=[])\n",
    "\n",
    "# Now in df_all is stored all the previous information and that of tidal accel.\n",
    "#You can use all the previous functions and the new column is called td_acc.\n",
    "# Then I'll make everything inside df itself."
   ]
  },
  {
   "cell_type": "code",
   "execution_count": null,
   "id": "84cd6cfd",
   "metadata": {},
   "outputs": [],
   "source": [
    "distribution_plot(df1, var=\"td_acc_interpolated\", specific_cluster=None)"
   ]
  },
  {
   "cell_type": "code",
   "execution_count": null,
   "id": "a1297196",
   "metadata": {},
   "outputs": [],
   "source": []
  }
 ],
 "metadata": {
  "kernelspec": {
   "display_name": "Python 3 (ipykernel)",
   "language": "python",
   "name": "python3"
  },
  "language_info": {
   "codemirror_mode": {
    "name": "ipython",
    "version": 3
   },
   "file_extension": ".py",
   "mimetype": "text/x-python",
   "name": "python",
   "nbconvert_exporter": "python",
   "pygments_lexer": "ipython3",
   "version": "3.11.5"
  }
 },
 "nbformat": 4,
 "nbformat_minor": 5
}
