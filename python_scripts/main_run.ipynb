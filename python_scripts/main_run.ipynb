{
 "cells": [
  {
   "cell_type": "code",
   "execution_count": null,
   "id": "abc2039d",
   "metadata": {},
   "outputs": [],
   "source": [
    "%load_ext autoreload\n",
    "%autoreload 2\n",
    "# Packages that we are going to use in this project\n",
    "import pandas as pd\n",
    "import numpy as np\n",
    "from datetime import datetime, timedelta\n",
    "\n",
    "\n",
    "import sys \n",
    "import os\n",
    "\n",
    "import matplotlib.pyplot as plt\n",
    "import plotly.express as px\n",
    "\n",
    "from statsmodels.tsa.seasonal import seasonal_decompose\n",
    "from statsmodels.graphics.tsaplots import plot_acf\n",
    "\n",
    "from scipy.fftpack import fft\n",
    "from scipy.signal import blackman\n",
    "from scipy.signal import periodogram\n",
    "\n",
    "from sklearn.cluster import KMeans\n",
    "import seaborn as sns; sns.set()\n",
    "from sklearn.preprocessing import MinMaxScaler\n",
    "\n",
    "from functions import *\n",
    "\n",
    "\n",
    "module_path = os.path.abspath(os.path.join('..'))\n",
    "if module_path not in sys.path:\n",
    "    sys.path.append(module_path+\"\\\\df\")\n",
    "from manage_file import FILES, getPath\n",
    "\n",
    "pd.set_option('display.max_rows', None)"
   ]
  },
  {
   "cell_type": "markdown",
   "id": "9c458eb6",
   "metadata": {},
   "source": [
    "## STEP 1: Read & view of the data"
   ]
  },
  {
   "cell_type": "code",
   "execution_count": null,
   "id": "471821e1",
   "metadata": {},
   "outputs": [],
   "source": [
    "# READ DATA INPUT : earth, moon or minable. Prefer use minable, \n",
    "# that contains earth and moon data, with clustering and interpolation already done\n",
    "df = read_data(file=\"minable\")\n",
    "df = df[df.mag > 4.4]\n",
    "df.head(10)"
   ]
  },
  {
   "cell_type": "markdown",
   "id": "77ff6fad",
   "metadata": {},
   "source": [
    "## Filter dataframe"
   ]
  },
  {
   "cell_type": "code",
   "execution_count": null,
   "id": "becdcb03",
   "metadata": {},
   "outputs": [],
   "source": [
    "# If you dont want to filter by magnitude, you can set it 0,10 or just erase the parameter, by default is (0,10)\n",
    "df1 = filter_dataframe(df,var=\"ill_frac_interpolated\", var_range = (0,20), mag_range=(7,10))"
   ]
  },
  {
   "cell_type": "markdown",
   "id": "9bdd68b0",
   "metadata": {},
   "source": [
    "## STEP 2:  __Frequency for a period of time of earthquakes considering magnitude segmentation.__\n",
    "\n",
    "For ex:\n",
    "* period_length = 10 (every 10 years compare)\n",
    "* mag_seg = {magnitude < 4 |  4<= magnitude < 5 | 5 < magnitude }"
   ]
  },
  {
   "cell_type": "code",
   "execution_count": null,
   "id": "4ae2ff25",
   "metadata": {},
   "outputs": [],
   "source": [
    "######## you must want to change these piece of code ########\n",
    "period_length = 10\n",
    "#############################################################\n",
    "df = period_calculation(df, period_length)# how many earthquakes for each period"
   ]
  },
  {
   "cell_type": "code",
   "execution_count": null,
   "id": "98f50571",
   "metadata": {},
   "outputs": [],
   "source": [
    "######## you must want to change these piece of code ########\n",
    "mag_seg = {0: [4.5,4.8], 1: [4.8,5.1], 2: [5.1,5.4], 3:[5.4,5.7], 4:[5.7,6], 5:[6,6.6], 6:[6.6,7.5], 7:[7.5,10] }\n",
    "dec_seg = {0: [-29,-18], 1: [-18,-9], 2: [-9,0], 3:[0,9], 4:[9,18], 5:[18,29]}\n",
    "\n",
    "#############################################################\n",
    "df = variable_segmentation(df, var_seg=dec_seg, var=\"dec\")"
   ]
  },
  {
   "cell_type": "markdown",
   "id": "fe03bfcf",
   "metadata": {},
   "source": [
    "## Histograms Plots"
   ]
  },
  {
   "cell_type": "code",
   "execution_count": null,
   "id": "d74e20ba",
   "metadata": {},
   "outputs": [],
   "source": [
    "# Histogram plot to see the count of earthquakes of each mag_seg for all the periods\n",
    "fig = px.histogram(df, x=\"MAG_SEG\", color='PERIOD', barmode='group', height=400)\n",
    "fig.show()"
   ]
  },
  {
   "cell_type": "code",
   "execution_count": null,
   "id": "7222139f",
   "metadata": {},
   "outputs": [],
   "source": [
    "# Plot of number of earthquakes for each period of time.\n",
    "fig = px.histogram(df, x=\"PERIOD\",color='PERIOD', barmode='group',height=400)\n",
    "fig.show()"
   ]
  },
  {
   "cell_type": "code",
   "execution_count": null,
   "id": "041c61a6",
   "metadata": {},
   "outputs": [],
   "source": [
    "# Histogram groupby monthly\n",
    "histogram_monthly(df, date_off_set=False, bool_mag_seg=False)"
   ]
  },
  {
   "cell_type": "code",
   "execution_count": null,
   "id": "53ebd607",
   "metadata": {
    "scrolled": false
   },
   "outputs": [],
   "source": [
    "plot_monthly(df,years=(1973,1978))"
   ]
  },
  {
   "cell_type": "markdown",
   "id": "5687fe2b",
   "metadata": {},
   "source": [
    "## Increasing by country"
   ]
  },
  {
   "cell_type": "code",
   "execution_count": null,
   "id": "689ab472",
   "metadata": {},
   "outputs": [],
   "source": [
    "# Count amount of earthquakes of each country\n",
    "countries_value_counts(df)"
   ]
  },
  {
   "cell_type": "code",
   "execution_count": null,
   "id": "72916d73",
   "metadata": {},
   "outputs": [],
   "source": [
    "######## you must want to change these piece of code ########\n",
    "countries = [\"Indonesia\", \"Japan\", \"Chile\", \"No_Country\"]\n",
    "#############################################################\n",
    "histogram_countries(df, countries)"
   ]
  },
  {
   "cell_type": "markdown",
   "id": "752da85f",
   "metadata": {},
   "source": [
    "### Plot map \"No_country\" "
   ]
  },
  {
   "cell_type": "code",
   "execution_count": null,
   "id": "0e309296",
   "metadata": {},
   "outputs": [],
   "source": [
    "df1 = df[df.Pais == \"No_Country\"]\n",
    "plot_map(df1, clusters=True)\n",
    "# punto de extraccion de la data de la luna."
   ]
  },
  {
   "cell_type": "markdown",
   "id": "54318ce1",
   "metadata": {},
   "source": [
    "### Trendline for magnitude segments"
   ]
  },
  {
   "cell_type": "code",
   "execution_count": null,
   "id": "85d6bf1f",
   "metadata": {},
   "outputs": [],
   "source": [
    "trendline_calculations(df)"
   ]
  },
  {
   "cell_type": "markdown",
   "id": "0bd9faab",
   "metadata": {},
   "source": [
    "### Clustering"
   ]
  },
  {
   "cell_type": "code",
   "execution_count": null,
   "id": "65e9fa63",
   "metadata": {
    "scrolled": true
   },
   "outputs": [],
   "source": [
    "#df = calculate_clustering(df, normalized=False)\n",
    "df.cluster_label.value_counts()"
   ]
  },
  {
   "cell_type": "code",
   "execution_count": null,
   "id": "78c938a2",
   "metadata": {
    "scrolled": false
   },
   "outputs": [],
   "source": [
    "plot_map(df, clusters=True)"
   ]
  },
  {
   "cell_type": "code",
   "execution_count": null,
   "id": "1cbb3295",
   "metadata": {},
   "outputs": [],
   "source": [
    "series_trend, negative_trend = trendline_calculations(df,cluster=True)"
   ]
  },
  {
   "cell_type": "code",
   "execution_count": null,
   "id": "791cb3de",
   "metadata": {},
   "outputs": [],
   "source": [
    "# Plot map on negative trendline cluster\n",
    "######## you must want to change these piece of code ########\n",
    "clusters_toplot = list(negative_trend.keys()) # [48,8,46,18] for example\n",
    "#clusters_toplot = [3,14]\n",
    "#############################################################\n",
    "plot_map(df, clusters=True, specific_clusters=clusters_toplot)"
   ]
  },
  {
   "cell_type": "code",
   "execution_count": null,
   "id": "16921819",
   "metadata": {},
   "outputs": [],
   "source": [
    "plot_map_animation(df, specific_clusters=[5,47], animation_frame=\"year\")"
   ]
  },
  {
   "cell_type": "code",
   "execution_count": null,
   "id": "4b4cfc26",
   "metadata": {},
   "outputs": [],
   "source": [
    "specific_cluster_info(df, 0)"
   ]
  },
  {
   "cell_type": "code",
   "execution_count": null,
   "id": "8bcc0563",
   "metadata": {},
   "outputs": [],
   "source": [
    "# histogram by specific clusters\n",
    "clusters = [47,43,16]\n",
    "histogram_cluster(df,clusters)"
   ]
  },
  {
   "cell_type": "code",
   "execution_count": null,
   "id": "4cfdc8a6",
   "metadata": {},
   "outputs": [],
   "source": [
    "histogram_overtime(df, var=\"ill_frac_interpolated\", specific_cluster=[47,43], animation_frame=\"year\")\n",
    "#animation_frame=\"MAG_SEG\", \"PERIOD\", \"YEAR\"... any column name of categories"
   ]
  },
  {
   "cell_type": "markdown",
   "id": "ae264de9",
   "metadata": {},
   "source": [
    "## Moon correlation\n",
    "\n",
    "### Calculate distribution of r/km and ill_frac of the moon interpolated in earthquakes"
   ]
  },
  {
   "cell_type": "code",
   "execution_count": null,
   "id": "04b6bb1f",
   "metadata": {
    "scrolled": true
   },
   "outputs": [],
   "source": [
    "\"\"\"\n",
    "Parameters:\n",
    "        df (pandas.DataFrame): A pandas DataFrame object.\n",
    "        columns (list): list of columns.\n",
    "        step_quantile (float): The step between each quantile to compute. Default is 0.25.\n",
    "        clusters (list): list of clusters of interest. [] by default.\n",
    "\"\"\"\n",
    "\n",
    "\n",
    "describe_columns(df, [\"r/km_interpolated\", \"ill_frac_interpolated\", \"dec_interpolated\"],\n",
    "                 step_quantile=0.01, clusters=[]) #clusters= list(negative_trend.keys())\n"
   ]
  },
  {
   "cell_type": "code",
   "execution_count": null,
   "id": "a111cba0",
   "metadata": {},
   "outputs": [],
   "source": [
    "calculo_distribution(df,var = \"ill_frac_interpolated\", num_bins=10, specific_cluster=None)"
   ]
  },
  {
   "cell_type": "code",
   "execution_count": null,
   "id": "bb37fd4f",
   "metadata": {},
   "outputs": [],
   "source": [
    "distribution_plot(df, var=\"ill_frac_interpolated\", specific_cluster=None)"
   ]
  },
  {
   "cell_type": "code",
   "execution_count": null,
   "id": "817ef56c",
   "metadata": {},
   "outputs": [],
   "source": [
    "plot_calculo_distribution(df, var=\"ill_frac_interpolated\", histnorm=\"percent\", num_bins=10, specific_cluster=None)"
   ]
  },
  {
   "cell_type": "code",
   "execution_count": null,
   "id": "954fb220",
   "metadata": {},
   "outputs": [],
   "source": [
    "histogram_animation(df, var=\"depth\", histnorm=\"percent\",animation_frame=\"year\", nbins=300, \n",
    "                   range_x=None, range_y=[0,60] )\n",
    "\n",
    "# nbins if you want by default write None.\n",
    "# range_x and range_y by default None, and will be like it was before, if you want to change set a list with two numbers\n",
    "#animation_frame=\"MAG_SEG\", \"PERIOD\", \"YEAR\"... any column name of categories"
   ]
  },
  {
   "cell_type": "code",
   "execution_count": null,
   "id": "ce6cb948",
   "metadata": {},
   "outputs": [],
   "source": [
    "count_number_days(var=\"ill_frac\", range_var=[0,10])"
   ]
  },
  {
   "cell_type": "code",
   "execution_count": null,
   "id": "f5307a91",
   "metadata": {},
   "outputs": [],
   "source": [
    "# Distribution KDE plot for a varaible for earthquake data and moon data.\n",
    "df_moon = read_data(file=\"moon\")\n",
    "distribution_plot(df, df_moon, var=\"r/km\")"
   ]
  },
  {
   "cell_type": "code",
   "execution_count": null,
   "id": "223fcf28",
   "metadata": {},
   "outputs": [],
   "source": [
    "# date_filt is in the order \"YYYY-mm-dd\"\n",
    "df2 = filter_by_date(df, date_filt=\"2020-05-03\", nweeks=5)"
   ]
  },
  {
   "cell_type": "code",
   "execution_count": null,
   "id": "7c20f836",
   "metadata": {},
   "outputs": [],
   "source": [
    "plot_map_animation(df2,animation_frame=\"week\")"
   ]
  },
  {
   "cell_type": "code",
   "execution_count": null,
   "id": "88d9e246",
   "metadata": {},
   "outputs": [],
   "source": []
  }
 ],
 "metadata": {
  "kernelspec": {
   "display_name": "Python 3 (ipykernel)",
   "language": "python",
   "name": "python3"
  },
  "language_info": {
   "codemirror_mode": {
    "name": "ipython",
    "version": 3
   },
   "file_extension": ".py",
   "mimetype": "text/x-python",
   "name": "python",
   "nbconvert_exporter": "python",
   "pygments_lexer": "ipython3",
   "version": "3.8.12"
  }
 },
 "nbformat": 4,
 "nbformat_minor": 5
}
