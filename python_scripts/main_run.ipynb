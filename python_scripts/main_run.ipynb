{
 "cells": [
  {
   "cell_type": "code",
   "execution_count": 1,
   "id": "abc2039d",
   "metadata": {},
   "outputs": [],
   "source": [
    "%load_ext autoreload\n",
    "%autoreload 2\n",
    "# Packages that we are going to use in this project\n",
    "import pandas as pd\n",
    "import numpy as np\n",
    "from datetime import datetime, timedelta\n",
    "\n",
    "\n",
    "import sys \n",
    "import os\n",
    "\n",
    "import matplotlib.pyplot as plt\n",
    "import plotly.express as px\n",
    "\n",
    "from statsmodels.tsa.seasonal import seasonal_decompose\n",
    "from statsmodels.graphics.tsaplots import plot_acf\n",
    "\n",
    "from scipy.fftpack import fft\n",
    "from scipy.signal import blackman\n",
    "from scipy.signal import periodogram\n",
    "\n",
    "from sklearn.cluster import KMeans\n",
    "import seaborn as sns; sns.set()\n",
    "from sklearn.preprocessing import MinMaxScaler\n",
    "\n",
    "from functions import *\n",
    "\n",
    "\n",
    "module_path = os.path.abspath(os.path.join('..'))\n",
    "if module_path not in sys.path:\n",
    "    sys.path.append(module_path+\"\\\\df\")\n",
    "from manage_file import FILES, getPath\n",
    "\n",
    "pd.set_option('display.max_rows', None)"
   ]
  },
  {
   "cell_type": "markdown",
   "id": "9c458eb6",
   "metadata": {},
   "source": [
    "## STEP 1: Read & view of the data"
   ]
  },
  {
   "cell_type": "code",
   "execution_count": 2,
   "id": "471821e1",
   "metadata": {},
   "outputs": [
    {
     "data": {
      "text/html": [
       "<div>\n",
       "<style scoped>\n",
       "    .dataframe tbody tr th:only-of-type {\n",
       "        vertical-align: middle;\n",
       "    }\n",
       "\n",
       "    .dataframe tbody tr th {\n",
       "        vertical-align: top;\n",
       "    }\n",
       "\n",
       "    .dataframe thead th {\n",
       "        text-align: right;\n",
       "    }\n",
       "</style>\n",
       "<table border=\"1\" class=\"dataframe\">\n",
       "  <thead>\n",
       "    <tr style=\"text-align: right;\">\n",
       "      <th></th>\n",
       "      <th>index</th>\n",
       "      <th>time</th>\n",
       "      <th>year</th>\n",
       "      <th>month</th>\n",
       "      <th>day</th>\n",
       "      <th>latitude</th>\n",
       "      <th>longitude</th>\n",
       "      <th>mag</th>\n",
       "      <th>depth</th>\n",
       "      <th>Pais</th>\n",
       "      <th>...</th>\n",
       "      <th>cluster_label</th>\n",
       "      <th>acum_day</th>\n",
       "      <th>ill_frac</th>\n",
       "      <th>r/km</th>\n",
       "      <th>dec</th>\n",
       "      <th>ra/h</th>\n",
       "      <th>ra/°</th>\n",
       "      <th>ill_frac_interpolated</th>\n",
       "      <th>r/km_interpolated</th>\n",
       "      <th>dec_interpolated</th>\n",
       "    </tr>\n",
       "  </thead>\n",
       "  <tbody>\n",
       "    <tr>\n",
       "      <th>0</th>\n",
       "      <td>90</td>\n",
       "      <td>1973-01-01 03:46:09</td>\n",
       "      <td>1973</td>\n",
       "      <td>1</td>\n",
       "      <td>1</td>\n",
       "      <td>-9.214</td>\n",
       "      <td>150.634</td>\n",
       "      <td>5.3</td>\n",
       "      <td>41.0</td>\n",
       "      <td>Papua New Guinea</td>\n",
       "      <td>...</td>\n",
       "      <td>2</td>\n",
       "      <td>1</td>\n",
       "      <td>11.754904</td>\n",
       "      <td>405944.3965</td>\n",
       "      <td>-24.015288</td>\n",
       "      <td>15.836820</td>\n",
       "      <td>237.552301</td>\n",
       "      <td>10.910562</td>\n",
       "      <td>405861.982414</td>\n",
       "      <td>-24.210285</td>\n",
       "    </tr>\n",
       "    <tr>\n",
       "      <th>1</th>\n",
       "      <td>91</td>\n",
       "      <td>1973-01-01 05:22:29</td>\n",
       "      <td>1973</td>\n",
       "      <td>1</td>\n",
       "      <td>1</td>\n",
       "      <td>-15.012</td>\n",
       "      <td>-173.958</td>\n",
       "      <td>5.0</td>\n",
       "      <td>33.0</td>\n",
       "      <td>Tonga</td>\n",
       "      <td>...</td>\n",
       "      <td>3</td>\n",
       "      <td>1</td>\n",
       "      <td>11.754904</td>\n",
       "      <td>405944.3965</td>\n",
       "      <td>-24.015288</td>\n",
       "      <td>15.836820</td>\n",
       "      <td>237.552301</td>\n",
       "      <td>10.550897</td>\n",
       "      <td>405826.876407</td>\n",
       "      <td>-24.293348</td>\n",
       "    </tr>\n",
       "    <tr>\n",
       "      <th>2</th>\n",
       "      <td>92</td>\n",
       "      <td>1973-01-01 09:28:57</td>\n",
       "      <td>1973</td>\n",
       "      <td>1</td>\n",
       "      <td>1</td>\n",
       "      <td>-22.161</td>\n",
       "      <td>-65.792</td>\n",
       "      <td>4.8</td>\n",
       "      <td>205.0</td>\n",
       "      <td>Argentina</td>\n",
       "      <td>...</td>\n",
       "      <td>6</td>\n",
       "      <td>1</td>\n",
       "      <td>11.754904</td>\n",
       "      <td>405944.3965</td>\n",
       "      <td>-24.015288</td>\n",
       "      <td>15.836820</td>\n",
       "      <td>237.552301</td>\n",
       "      <td>9.630703</td>\n",
       "      <td>405737.058477</td>\n",
       "      <td>-24.505863</td>\n",
       "    </tr>\n",
       "    <tr>\n",
       "      <th>3</th>\n",
       "      <td>93</td>\n",
       "      <td>1973-01-01 11:42:37</td>\n",
       "      <td>1973</td>\n",
       "      <td>1</td>\n",
       "      <td>1</td>\n",
       "      <td>-35.513</td>\n",
       "      <td>-16.211</td>\n",
       "      <td>6.0</td>\n",
       "      <td>33.0</td>\n",
       "      <td>No_Country</td>\n",
       "      <td>...</td>\n",
       "      <td>43</td>\n",
       "      <td>1</td>\n",
       "      <td>11.754904</td>\n",
       "      <td>405944.3965</td>\n",
       "      <td>-24.015288</td>\n",
       "      <td>15.836820</td>\n",
       "      <td>237.552301</td>\n",
       "      <td>9.131653</td>\n",
       "      <td>405688.347373</td>\n",
       "      <td>-24.621116</td>\n",
       "    </tr>\n",
       "    <tr>\n",
       "      <th>4</th>\n",
       "      <td>94</td>\n",
       "      <td>1973-01-02 00:53:20</td>\n",
       "      <td>1973</td>\n",
       "      <td>1</td>\n",
       "      <td>2</td>\n",
       "      <td>-9.854</td>\n",
       "      <td>117.427</td>\n",
       "      <td>5.5</td>\n",
       "      <td>66.0</td>\n",
       "      <td>Indonesia</td>\n",
       "      <td>...</td>\n",
       "      <td>12</td>\n",
       "      <td>2</td>\n",
       "      <td>6.378599</td>\n",
       "      <td>405419.6285</td>\n",
       "      <td>-25.256921</td>\n",
       "      <td>16.700503</td>\n",
       "      <td>250.507552</td>\n",
       "      <td>6.236433</td>\n",
       "      <td>405371.503848</td>\n",
       "      <td>-25.260419</td>\n",
       "    </tr>\n",
       "    <tr>\n",
       "      <th>5</th>\n",
       "      <td>95</td>\n",
       "      <td>1973-01-02 02:27:09</td>\n",
       "      <td>1973</td>\n",
       "      <td>1</td>\n",
       "      <td>2</td>\n",
       "      <td>1.035</td>\n",
       "      <td>126.211</td>\n",
       "      <td>5.4</td>\n",
       "      <td>61.0</td>\n",
       "      <td>Indonesia</td>\n",
       "      <td>...</td>\n",
       "      <td>45</td>\n",
       "      <td>2</td>\n",
       "      <td>6.378599</td>\n",
       "      <td>405419.6285</td>\n",
       "      <td>-25.256921</td>\n",
       "      <td>16.700503</td>\n",
       "      <td>250.507552</td>\n",
       "      <td>5.986355</td>\n",
       "      <td>405286.849578</td>\n",
       "      <td>-25.266571</td>\n",
       "    </tr>\n",
       "    <tr>\n",
       "      <th>6</th>\n",
       "      <td>96</td>\n",
       "      <td>1973-01-02 03:03:46</td>\n",
       "      <td>1973</td>\n",
       "      <td>1</td>\n",
       "      <td>2</td>\n",
       "      <td>18.923</td>\n",
       "      <td>-104.127</td>\n",
       "      <td>4.6</td>\n",
       "      <td>33.0</td>\n",
       "      <td>Mexico</td>\n",
       "      <td>...</td>\n",
       "      <td>59</td>\n",
       "      <td>2</td>\n",
       "      <td>6.378599</td>\n",
       "      <td>405419.6285</td>\n",
       "      <td>-25.256921</td>\n",
       "      <td>16.700503</td>\n",
       "      <td>250.507552</td>\n",
       "      <td>5.888750</td>\n",
       "      <td>405253.808996</td>\n",
       "      <td>-25.268973</td>\n",
       "    </tr>\n",
       "    <tr>\n",
       "      <th>7</th>\n",
       "      <td>97</td>\n",
       "      <td>1973-01-02 03:47:52</td>\n",
       "      <td>1973</td>\n",
       "      <td>1</td>\n",
       "      <td>2</td>\n",
       "      <td>5.404</td>\n",
       "      <td>-82.541</td>\n",
       "      <td>5.2</td>\n",
       "      <td>30.0</td>\n",
       "      <td>Panama</td>\n",
       "      <td>...</td>\n",
       "      <td>28</td>\n",
       "      <td>2</td>\n",
       "      <td>6.378599</td>\n",
       "      <td>405419.6285</td>\n",
       "      <td>-25.256921</td>\n",
       "      <td>16.700503</td>\n",
       "      <td>250.507552</td>\n",
       "      <td>5.771196</td>\n",
       "      <td>405214.015925</td>\n",
       "      <td>-25.271865</td>\n",
       "    </tr>\n",
       "    <tr>\n",
       "      <th>8</th>\n",
       "      <td>98</td>\n",
       "      <td>1973-01-02 13:51:56</td>\n",
       "      <td>1973</td>\n",
       "      <td>1</td>\n",
       "      <td>2</td>\n",
       "      <td>71.529</td>\n",
       "      <td>-5.754</td>\n",
       "      <td>4.5</td>\n",
       "      <td>33.0</td>\n",
       "      <td>Svalbard and Jan Ma</td>\n",
       "      <td>...</td>\n",
       "      <td>38</td>\n",
       "      <td>2</td>\n",
       "      <td>6.378599</td>\n",
       "      <td>405419.6285</td>\n",
       "      <td>-25.256921</td>\n",
       "      <td>16.700503</td>\n",
       "      <td>250.507552</td>\n",
       "      <td>4.160994</td>\n",
       "      <td>404668.944087</td>\n",
       "      <td>-25.311480</td>\n",
       "    </tr>\n",
       "    <tr>\n",
       "      <th>9</th>\n",
       "      <td>99</td>\n",
       "      <td>1973-01-02 16:25:36</td>\n",
       "      <td>1973</td>\n",
       "      <td>1</td>\n",
       "      <td>2</td>\n",
       "      <td>36.085</td>\n",
       "      <td>71.308</td>\n",
       "      <td>4.8</td>\n",
       "      <td>137.0</td>\n",
       "      <td>Afghanistan</td>\n",
       "      <td>...</td>\n",
       "      <td>4</td>\n",
       "      <td>2</td>\n",
       "      <td>6.378599</td>\n",
       "      <td>405419.6285</td>\n",
       "      <td>-25.256921</td>\n",
       "      <td>16.700503</td>\n",
       "      <td>250.507552</td>\n",
       "      <td>3.751380</td>\n",
       "      <td>404530.284934</td>\n",
       "      <td>-25.321558</td>\n",
       "    </tr>\n",
       "  </tbody>\n",
       "</table>\n",
       "<p>10 rows × 24 columns</p>\n",
       "</div>"
      ],
      "text/plain": [
       "   index                time  year  month  day  latitude  longitude  mag   \n",
       "0     90 1973-01-01 03:46:09  1973      1    1    -9.214    150.634  5.3  \\\n",
       "1     91 1973-01-01 05:22:29  1973      1    1   -15.012   -173.958  5.0   \n",
       "2     92 1973-01-01 09:28:57  1973      1    1   -22.161    -65.792  4.8   \n",
       "3     93 1973-01-01 11:42:37  1973      1    1   -35.513    -16.211  6.0   \n",
       "4     94 1973-01-02 00:53:20  1973      1    2    -9.854    117.427  5.5   \n",
       "5     95 1973-01-02 02:27:09  1973      1    2     1.035    126.211  5.4   \n",
       "6     96 1973-01-02 03:03:46  1973      1    2    18.923   -104.127  4.6   \n",
       "7     97 1973-01-02 03:47:52  1973      1    2     5.404    -82.541  5.2   \n",
       "8     98 1973-01-02 13:51:56  1973      1    2    71.529     -5.754  4.5   \n",
       "9     99 1973-01-02 16:25:36  1973      1    2    36.085     71.308  4.8   \n",
       "\n",
       "   depth                 Pais  ... cluster_label  acum_day   ill_frac   \n",
       "0   41.0     Papua New Guinea  ...             2         1  11.754904  \\\n",
       "1   33.0                Tonga  ...             3         1  11.754904   \n",
       "2  205.0            Argentina  ...             6         1  11.754904   \n",
       "3   33.0           No_Country  ...            43         1  11.754904   \n",
       "4   66.0            Indonesia  ...            12         2   6.378599   \n",
       "5   61.0            Indonesia  ...            45         2   6.378599   \n",
       "6   33.0               Mexico  ...            59         2   6.378599   \n",
       "7   30.0               Panama  ...            28         2   6.378599   \n",
       "8   33.0  Svalbard and Jan Ma  ...            38         2   6.378599   \n",
       "9  137.0          Afghanistan  ...             4         2   6.378599   \n",
       "\n",
       "          r/km        dec       ra/h        ra/°  ill_frac_interpolated   \n",
       "0  405944.3965 -24.015288  15.836820  237.552301              10.910562  \\\n",
       "1  405944.3965 -24.015288  15.836820  237.552301              10.550897   \n",
       "2  405944.3965 -24.015288  15.836820  237.552301               9.630703   \n",
       "3  405944.3965 -24.015288  15.836820  237.552301               9.131653   \n",
       "4  405419.6285 -25.256921  16.700503  250.507552               6.236433   \n",
       "5  405419.6285 -25.256921  16.700503  250.507552               5.986355   \n",
       "6  405419.6285 -25.256921  16.700503  250.507552               5.888750   \n",
       "7  405419.6285 -25.256921  16.700503  250.507552               5.771196   \n",
       "8  405419.6285 -25.256921  16.700503  250.507552               4.160994   \n",
       "9  405419.6285 -25.256921  16.700503  250.507552               3.751380   \n",
       "\n",
       "   r/km_interpolated  dec_interpolated  \n",
       "0      405861.982414        -24.210285  \n",
       "1      405826.876407        -24.293348  \n",
       "2      405737.058477        -24.505863  \n",
       "3      405688.347373        -24.621116  \n",
       "4      405371.503848        -25.260419  \n",
       "5      405286.849578        -25.266571  \n",
       "6      405253.808996        -25.268973  \n",
       "7      405214.015925        -25.271865  \n",
       "8      404668.944087        -25.311480  \n",
       "9      404530.284934        -25.321558  \n",
       "\n",
       "[10 rows x 24 columns]"
      ]
     },
     "execution_count": 2,
     "metadata": {},
     "output_type": "execute_result"
    }
   ],
   "source": [
    "# READ DATA INPUT : earth, moon or minable. Prefer use minable, \n",
    "# that contains earth and moon data, with clustering and interpolation already done\n",
    "df = read_data(file=\"minable\")\n",
    "df = df[df.mag > 4.4]\n",
    "df.head(10)"
   ]
  },
  {
   "cell_type": "markdown",
   "id": "77ff6fad",
   "metadata": {},
   "source": [
    "## Filter dataframe"
   ]
  },
  {
   "cell_type": "code",
   "execution_count": null,
   "id": "becdcb03",
   "metadata": {},
   "outputs": [],
   "source": [
    "# If you dont want to filter by magnitude, you can set it 0,10 or just erase the parameter, by default is (0,10)\n",
    "df1 = filter_dataframe(df,var=\"ill_frac_interpolated\", var_range = (0,20), mag_range=(7,10))"
   ]
  },
  {
   "cell_type": "markdown",
   "id": "9bdd68b0",
   "metadata": {},
   "source": [
    "## STEP 2:  __Frequency for a period of time of earthquakes considering magnitude segmentation.__\n",
    "\n",
    "For ex:\n",
    "* period_length = 10 (every 10 years compare)\n",
    "* mag_seg = {magnitude < 4 |  4<= magnitude < 5 | 5 < magnitude }"
   ]
  },
  {
   "cell_type": "code",
   "execution_count": null,
   "id": "4ae2ff25",
   "metadata": {},
   "outputs": [],
   "source": [
    "######## you must want to change these piece of code ########\n",
    "period_length = 10\n",
    "#############################################################\n",
    "df = period_calculation(df, period_length)# how many earthquakes for each period"
   ]
  },
  {
   "cell_type": "code",
   "execution_count": 3,
   "id": "98f50571",
   "metadata": {},
   "outputs": [
    {
     "ename": "SyntaxError",
     "evalue": "cannot assign to operator (Temp/ipykernel_18176/527012403.py, line 4)",
     "output_type": "error",
     "traceback": [
      "\u001b[1;36m  File \u001b[1;32m\"C:\\Users\\NICOLA~1\\AppData\\Local\\Temp/ipykernel_18176/527012403.py\"\u001b[1;36m, line \u001b[1;32m4\u001b[0m\n\u001b[1;33m    r/s = 2\u001b[0m\n\u001b[1;37m    ^\u001b[0m\n\u001b[1;31mSyntaxError\u001b[0m\u001b[1;31m:\u001b[0m cannot assign to operator\n"
     ]
    }
   ],
   "source": [
    "######## you must want to change these piece of code ########\n",
    "mag_seg = {0: [4.5,4.8], 1: [4.8,5.1], 2: [5.1,5.4], 3:[5.4,5.7], 4:[5.7,6], 5:[6,6.6], 6:[6.6,7.5], 7:[7.5,10] }\n",
    "dec_seg = {0: [-29,-18], 1: [-18,-9], 2: [-9,0], 3:[0,9], 4:[9,18], 5:[18,29]}\n",
    "depth_seg = {0: [0,20], 1: [20,40], 2: [40,100], 3:[100,200], 4:[200,400], 5:[400,800]}\n",
    "latitude_seg = {0: [-80,-50], 1: [-50,-28], 2: [-28,-18], 3:[-18,0], 4:[0,18], 5:[18,28], 6:[28,50], 7:[50,80] }\n",
    "longitude_seg = {0: [-180,-135], 1: [-135,-90], 2: [-90,-45], 3:[-45,0], 4:[0,45], 5:[45,90], 6:[90,135], 7:[135,180] }\n",
    "ill_frac_seg = {0: [0,20], 1: [20,40], 2: [40,60], 3:[60,80], 4:[80,100]}\n",
    "rah_seg = {0: [0,3], 1: [3,6], 2: [6,9], 3:[9,12], 4:[12,15], 5:[15,18], 6:[18,21], 7:[21,24] }\n",
    "rkm_seg = {0: [350000,360000], 1: [360000,370000], 2: [370000,380000], 3:[380000,390000], 4:[390000,400000], 5:[400000,410000]}\n",
    "#############################################################\n",
    "df = variable_segmentation(df, var_seg=rkm_seg, var = \"r/km\")\n"
   ]
  },
  {
   "cell_type": "markdown",
   "id": "fe03bfcf",
   "metadata": {},
   "source": [
    "## Histograms Plots"
   ]
  },
  {
   "cell_type": "code",
   "execution_count": null,
   "id": "d74e20ba",
   "metadata": {},
   "outputs": [],
   "source": [
    "# Histogram plot to see the count of earthquakes of each mag_seg for all the periods\n",
    "fig = px.histogram(df, x=\"MAG_SEG\", color='PERIOD', barmode='group', height=400)\n",
    "fig.show()"
   ]
  },
  {
   "cell_type": "code",
   "execution_count": null,
   "id": "7222139f",
   "metadata": {},
   "outputs": [],
   "source": [
    "# Plot of number of earthquakes for each period of time.\n",
    "fig = px.histogram(df, x=\"PERIOD\",color='PERIOD', barmode='group',height=400)\n",
    "fig.show()"
   ]
  },
  {
   "cell_type": "code",
   "execution_count": null,
   "id": "041c61a6",
   "metadata": {},
   "outputs": [],
   "source": [
    "# Histogram groupby monthly\n",
    "histogram_monthly(df, date_off_set=False, bool_mag_seg=False)"
   ]
  },
  {
   "cell_type": "code",
   "execution_count": null,
   "id": "53ebd607",
   "metadata": {
    "scrolled": false
   },
   "outputs": [],
   "source": [
    "plot_monthly(df,years=(1973,1978))"
   ]
  },
  {
   "cell_type": "markdown",
   "id": "5687fe2b",
   "metadata": {},
   "source": [
    "## Increasing by country"
   ]
  },
  {
   "cell_type": "code",
   "execution_count": null,
   "id": "689ab472",
   "metadata": {},
   "outputs": [],
   "source": [
    "# Count amount of earthquakes of each country\n",
    "countries_value_counts(df)"
   ]
  },
  {
   "cell_type": "code",
   "execution_count": null,
   "id": "72916d73",
   "metadata": {},
   "outputs": [],
   "source": [
    "######## you must want to change these piece of code ########\n",
    "countries = [\"Indonesia\", \"Japan\", \"Chile\", \"No_Country\"]\n",
    "#############################################################\n",
    "histogram_countries(df, countries)"
   ]
  },
  {
   "cell_type": "markdown",
   "id": "752da85f",
   "metadata": {},
   "source": [
    "### Plot map \"No_country\" "
   ]
  },
  {
   "cell_type": "code",
   "execution_count": null,
   "id": "0e309296",
   "metadata": {},
   "outputs": [],
   "source": [
    "df1 = df[df.Pais == \"No_Country\"]\n",
    "plot_map(df1, clusters=True)\n",
    "# punto de extraccion de la data de la luna."
   ]
  },
  {
   "cell_type": "markdown",
   "id": "54318ce1",
   "metadata": {},
   "source": [
    "### Trendline for magnitude segments"
   ]
  },
  {
   "cell_type": "code",
   "execution_count": null,
   "id": "85d6bf1f",
   "metadata": {},
   "outputs": [],
   "source": [
    "trendline_calculations(df)"
   ]
  },
  {
   "cell_type": "markdown",
   "id": "0bd9faab",
   "metadata": {},
   "source": [
    "### Clustering"
   ]
  },
  {
   "cell_type": "code",
   "execution_count": null,
   "id": "65e9fa63",
   "metadata": {
    "scrolled": true
   },
   "outputs": [],
   "source": [
    "#df = calculate_clustering(df, normalized=False)\n",
    "df.cluster_label.value_counts()"
   ]
  },
  {
   "cell_type": "code",
   "execution_count": null,
   "id": "78c938a2",
   "metadata": {
    "scrolled": false
   },
   "outputs": [],
   "source": [
    "plot_map(df, clusters=True)"
   ]
  },
  {
   "cell_type": "code",
   "execution_count": null,
   "id": "1cbb3295",
   "metadata": {},
   "outputs": [],
   "source": [
    "series_trend, negative_trend = trendline_calculations(df,cluster=True)"
   ]
  },
  {
   "cell_type": "code",
   "execution_count": null,
   "id": "791cb3de",
   "metadata": {},
   "outputs": [],
   "source": [
    "# Plot map on negative trendline cluster\n",
    "######## you must want to change these piece of code ########\n",
    "clusters_toplot = list(negative_trend.keys()) # [48,8,46,18] for example\n",
    "#clusters_toplot = [3,14]\n",
    "#############################################################\n",
    "plot_map(df, clusters=True, specific_clusters=clusters_toplot)"
   ]
  },
  {
   "cell_type": "code",
   "execution_count": null,
   "id": "16921819",
   "metadata": {},
   "outputs": [],
   "source": [
    "plot_map_animation(df, specific_clusters=[5,47], animation_frame=\"year\")"
   ]
  },
  {
   "cell_type": "code",
   "execution_count": null,
   "id": "4b4cfc26",
   "metadata": {},
   "outputs": [],
   "source": [
    "specific_cluster_info(df, 0)"
   ]
  },
  {
   "cell_type": "code",
   "execution_count": null,
   "id": "8bcc0563",
   "metadata": {},
   "outputs": [],
   "source": [
    "# histogram by specific clusters\n",
    "clusters = [47,43,16]\n",
    "histogram_cluster(df,clusters)"
   ]
  },
  {
   "cell_type": "code",
   "execution_count": null,
   "id": "4cfdc8a6",
   "metadata": {},
   "outputs": [],
   "source": [
    "histogram_overtime(df, var=\"ill_frac_interpolated\", specific_cluster=[47,43], animation_frame=\"year\")\n",
    "#animation_frame=\"MAG_SEG\", \"PERIOD\", \"YEAR\"... any column name of categories"
   ]
  },
  {
   "cell_type": "markdown",
   "id": "ae264de9",
   "metadata": {},
   "source": [
    "## Moon correlation\n",
    "\n",
    "### Calculate distribution of r/km and ill_frac of the moon interpolated in earthquakes"
   ]
  },
  {
   "cell_type": "code",
   "execution_count": null,
   "id": "04b6bb1f",
   "metadata": {
    "scrolled": true
   },
   "outputs": [],
   "source": [
    "\"\"\"\n",
    "Parameters:\n",
    "        df (pandas.DataFrame): A pandas DataFrame object.\n",
    "        columns (list): list of columns.\n",
    "        step_quantile (float): The step between each quantile to compute. Default is 0.25.\n",
    "        clusters (list): list of clusters of interest. [] by default.\n",
    "\"\"\"\n",
    "\n",
    "\n",
    "describe_columns(df, [\"r/km_interpolated\", \"ill_frac_interpolated\", \"dec_interpolated\"],\n",
    "                 step_quantile=0.01, clusters=[]) #clusters= list(negative_trend.keys())\n"
   ]
  },
  {
   "cell_type": "code",
   "execution_count": null,
   "id": "a111cba0",
   "metadata": {},
   "outputs": [],
   "source": [
    "calculo_distribution(df,var = \"ill_frac_interpolated\", num_bins=10, specific_cluster=None)"
   ]
  },
  {
   "cell_type": "code",
   "execution_count": null,
   "id": "bb37fd4f",
   "metadata": {},
   "outputs": [],
   "source": [
    "distribution_plot(df, var=\"ill_frac_interpolated\", specific_cluster=None)"
   ]
  },
  {
   "cell_type": "code",
   "execution_count": null,
   "id": "817ef56c",
   "metadata": {},
   "outputs": [],
   "source": [
    "plot_calculo_distribution(df, var=\"ill_frac_interpolated\", histnorm=\"percent\", num_bins=10, specific_cluster=None)"
   ]
  },
  {
   "cell_type": "code",
   "execution_count": null,
   "id": "954fb220",
   "metadata": {},
   "outputs": [],
   "source": [
    "histogram_animation(df, var=\"depth\", histnorm=\"percent\",animation_frame=\"year\", nbins=300, \n",
    "                   range_x=None, range_y=[0,60] )\n",
    "\n",
    "# nbins if you want by default write None.\n",
    "# range_x and range_y by default None, and will be like it was before, if you want to change set a list with two numbers\n",
    "#animation_frame=\"MAG_SEG\", \"PERIOD\", \"YEAR\"... any column name of categories"
   ]
  },
  {
   "cell_type": "code",
   "execution_count": 3,
   "id": "ce6cb948",
   "metadata": {},
   "outputs": [],
   "source": [
    "\n",
    "#count_number_days(var=\"ill_frac\", range_var=[0,10])\n",
    "df_moon = read_data(file=\"moon\")"
   ]
  },
  {
   "cell_type": "code",
   "execution_count": null,
   "id": "f5307a91",
   "metadata": {},
   "outputs": [],
   "source": [
    "# Distribution KDE plot for a varaible for earthquake data and moon data.\n",
    "df_moon = read_data(file=\"moon\")\n",
    "distribution_plot(df, df_moon, var=\"r/km\")"
   ]
  },
  {
   "cell_type": "code",
   "execution_count": null,
   "id": "223fcf28",
   "metadata": {},
   "outputs": [],
   "source": [
    "# date_filt is in the order \"YYYY-mm-dd\"\n",
    "df2 = filter_by_date(df, date_filt=\"2020-05-03\", nweeks=5)"
   ]
  },
  {
   "cell_type": "code",
   "execution_count": null,
   "id": "7c20f836",
   "metadata": {},
   "outputs": [],
   "source": [
    "plot_map_animation(df2,animation_frame=\"week\")"
   ]
  },
  {
   "cell_type": "code",
   "execution_count": 4,
   "id": "88d9e246",
   "metadata": {},
   "outputs": [
    {
     "data": {
      "text/html": [
       "<div>\n",
       "<style scoped>\n",
       "    .dataframe tbody tr th:only-of-type {\n",
       "        vertical-align: middle;\n",
       "    }\n",
       "\n",
       "    .dataframe tbody tr th {\n",
       "        vertical-align: top;\n",
       "    }\n",
       "\n",
       "    .dataframe thead th {\n",
       "        text-align: right;\n",
       "    }\n",
       "</style>\n",
       "<table border=\"1\" class=\"dataframe\">\n",
       "  <thead>\n",
       "    <tr style=\"text-align: right;\">\n",
       "      <th></th>\n",
       "      <th>year</th>\n",
       "      <th>day</th>\n",
       "      <th>month</th>\n",
       "      <th>acum_day</th>\n",
       "      <th>ill_frac</th>\n",
       "      <th>r/km</th>\n",
       "      <th>dec</th>\n",
       "      <th>ra/h</th>\n",
       "      <th>ra/°</th>\n",
       "    </tr>\n",
       "  </thead>\n",
       "  <tbody>\n",
       "    <tr>\n",
       "      <th>19354</th>\n",
       "      <td>2025</td>\n",
       "      <td>28</td>\n",
       "      <td>12</td>\n",
       "      <td>362</td>\n",
       "      <td>52.324076</td>\n",
       "      <td>375350.607760</td>\n",
       "      <td>5.749487</td>\n",
       "      <td>0.489958</td>\n",
       "      <td>7.349376</td>\n",
       "    </tr>\n",
       "    <tr>\n",
       "      <th>19355</th>\n",
       "      <td>2025</td>\n",
       "      <td>29</td>\n",
       "      <td>12</td>\n",
       "      <td>363</td>\n",
       "      <td>63.383411</td>\n",
       "      <td>370753.975365</td>\n",
       "      <td>12.047014</td>\n",
       "      <td>1.328877</td>\n",
       "      <td>19.933150</td>\n",
       "    </tr>\n",
       "    <tr>\n",
       "      <th>19356</th>\n",
       "      <td>2025</td>\n",
       "      <td>30</td>\n",
       "      <td>12</td>\n",
       "      <td>364</td>\n",
       "      <td>74.029349</td>\n",
       "      <td>366578.502458</td>\n",
       "      <td>17.888541</td>\n",
       "      <td>2.228649</td>\n",
       "      <td>33.429742</td>\n",
       "    </tr>\n",
       "    <tr>\n",
       "      <th>19357</th>\n",
       "      <td>2025</td>\n",
       "      <td>31</td>\n",
       "      <td>12</td>\n",
       "      <td>365</td>\n",
       "      <td>83.595220</td>\n",
       "      <td>363207.959690</td>\n",
       "      <td>22.836907</td>\n",
       "      <td>3.205588</td>\n",
       "      <td>48.083817</td>\n",
       "    </tr>\n",
       "    <tr>\n",
       "      <th>19358</th>\n",
       "      <td>2025</td>\n",
       "      <td>1</td>\n",
       "      <td>13</td>\n",
       "      <td>366</td>\n",
       "      <td>91.405217</td>\n",
       "      <td>361028.171277</td>\n",
       "      <td>26.402270</td>\n",
       "      <td>4.262234</td>\n",
       "      <td>63.933517</td>\n",
       "    </tr>\n",
       "  </tbody>\n",
       "</table>\n",
       "</div>"
      ],
      "text/plain": [
       "       year  day  month  acum_day   ill_frac           r/km        dec   \n",
       "19354  2025   28     12       362  52.324076  375350.607760   5.749487  \\\n",
       "19355  2025   29     12       363  63.383411  370753.975365  12.047014   \n",
       "19356  2025   30     12       364  74.029349  366578.502458  17.888541   \n",
       "19357  2025   31     12       365  83.595220  363207.959690  22.836907   \n",
       "19358  2025    1     13       366  91.405217  361028.171277  26.402270   \n",
       "\n",
       "           ra/h       ra/°  \n",
       "19354  0.489958   7.349376  \n",
       "19355  1.328877  19.933150  \n",
       "19356  2.228649  33.429742  \n",
       "19357  3.205588  48.083817  \n",
       "19358  4.262234  63.933517  "
      ]
     },
     "execution_count": 4,
     "metadata": {},
     "output_type": "execute_result"
    }
   ],
   "source": [
    "df_moon.tail()"
   ]
  },
  {
   "cell_type": "code",
   "execution_count": 5,
   "id": "3ec6471f",
   "metadata": {},
   "outputs": [
    {
     "data": {
      "text/plain": [
       "20075"
      ]
     },
     "execution_count": 5,
     "metadata": {},
     "output_type": "execute_result"
    }
   ],
   "source": [
    "    "
   ]
  },
  {
   "cell_type": "code",
   "execution_count": null,
   "id": "de1f112d",
   "metadata": {},
   "outputs": [],
   "source": []
  }
 ],
 "metadata": {
  "kernelspec": {
   "display_name": "Python 3 (ipykernel)",
   "language": "python",
   "name": "python3"
  },
  "language_info": {
   "codemirror_mode": {
    "name": "ipython",
    "version": 3
   },
   "file_extension": ".py",
   "mimetype": "text/x-python",
   "name": "python",
   "nbconvert_exporter": "python",
   "pygments_lexer": "ipython3",
   "version": "3.8.12"
  }
 },
 "nbformat": 4,
 "nbformat_minor": 5
}
