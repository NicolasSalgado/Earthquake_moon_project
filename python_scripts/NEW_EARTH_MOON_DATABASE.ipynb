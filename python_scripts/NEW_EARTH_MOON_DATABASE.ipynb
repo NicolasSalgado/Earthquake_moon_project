{
 "cells": [
  {
   "cell_type": "code",
   "execution_count": null,
   "id": "abc2039d",
   "metadata": {},
   "outputs": [],
   "source": [
    "# Packages that we are going to use in this project\n",
    "import pandas as pd\n",
    "import numpy as np\n",
    "from datetime import datetime, timedelta\n",
    "\n",
    "\n",
    "import sys \n",
    "import os\n",
    "\n",
    "import matplotlib.pyplot as plt\n",
    "import plotly.express as px\n",
    "\n",
    "from statsmodels.tsa.seasonal import seasonal_decompose\n",
    "from statsmodels.graphics.tsaplots import plot_acf\n",
    "\n",
    "from scipy.fftpack import fft\n",
    "from scipy.signal import blackman\n",
    "from scipy.signal import periodogram\n",
    "\n",
    "from sklearn.cluster import KMeans\n",
    "import seaborn as sns; sns.set()\n",
    "from sklearn.preprocessing import MinMaxScaler\n",
    "\n",
    "from functions import *\n",
    "\n",
    "\n",
    "module_path = os.path.abspath(os.path.join('..'))\n",
    "if module_path not in sys.path:\n",
    "    sys.path.append(module_path+\"\\\\df\")\n",
    "from manage_file import FILES, getPath\n",
    "\n"
   ]
  },
  {
   "cell_type": "markdown",
   "id": "9c458eb6",
   "metadata": {},
   "source": [
    "## STEP 1: Read & view of the data"
   ]
  },
  {
   "cell_type": "code",
   "execution_count": null,
   "id": "471821e1",
   "metadata": {},
   "outputs": [],
   "source": [
    "# READ DATA INPUT : earth, moon or minable. \n",
    "df = read_data(file=\"earth\")"
   ]
  },
  {
   "cell_type": "code",
   "execution_count": null,
   "id": "730c32e7",
   "metadata": {},
   "outputs": [],
   "source": [
    "# plot map : recieve dataframe , cluster = Boolean and specific cluster \n",
    "plot_map(df)"
   ]
  },
  {
   "cell_type": "markdown",
   "id": "9bdd68b0",
   "metadata": {},
   "source": [
    "## STEP 2:  __Frequency for a period of time of earthquakes considering magnitude segmentation.__\n",
    "\n",
    "For ex:\n",
    "* period_length = 10 (every 10 years compare)\n",
    "* mag_seg = {magnitude < 4 |  4<= magnitude < 5 | 5 < magnitude }"
   ]
  },
  {
   "cell_type": "code",
   "execution_count": null,
   "id": "4ae2ff25",
   "metadata": {},
   "outputs": [],
   "source": [
    "######## you must want to change these piece of code ########\n",
    "period_length = 10\n",
    "#############################################################\n",
    "df = period_calculation(df, period_length)# how many earthquakes for each period"
   ]
  },
  {
   "cell_type": "code",
   "execution_count": null,
   "id": "98f50571",
   "metadata": {},
   "outputs": [],
   "source": [
    "######## you must want to change these piece of code ########\n",
    "mag_seg = {0: [0,4.6], 1: [4.6,4.9], 2: [4.9,10]} \n",
    "#############################################################\n",
    "df = magnitude_segmentation(df, mag_seg)"
   ]
  },
  {
   "cell_type": "markdown",
   "id": "0bd9faab",
   "metadata": {},
   "source": [
    "### Clustering"
   ]
  },
  {
   "cell_type": "code",
   "execution_count": null,
   "id": "65e9fa63",
   "metadata": {},
   "outputs": [],
   "source": [
    "df = calculate_clustering(df, normalized=False)"
   ]
  },
  {
   "cell_type": "markdown",
   "id": "7820e5cb",
   "metadata": {},
   "source": [
    "# STAGE 2:  Relation between moon and eartquakes"
   ]
  },
  {
   "cell_type": "code",
   "execution_count": null,
   "id": "6427dd9b",
   "metadata": {},
   "outputs": [],
   "source": [
    "# READ DATA INPUT : earth, moon or minable_{period_len}\n",
    "df_moon = read_data(file=\"moon\")"
   ]
  },
  {
   "cell_type": "code",
   "execution_count": null,
   "id": "ef0df3e5",
   "metadata": {},
   "outputs": [],
   "source": [
    "df_merged = pd.merge(df, df_moon, left_on=['year', 'month', 'day'], right_on=['year', 'month', 'day'], how=\"left\")"
   ]
  },
  {
   "cell_type": "code",
   "execution_count": null,
   "id": "e92d06a1",
   "metadata": {},
   "outputs": [],
   "source": [
    "var_name = [\"ill_frac\",\"r/km\"] # variable to interpolate\n",
    "print(df_moon[var_name].describe())\n",
    "#The next line will apply the interpolation. This line will take time. If is not neccesary reapply dont run it\n",
    "# remember that minable has interpolation already done.\n",
    "df_merged = apply_interpolation(df_merged, df_moon, var_name) "
   ]
  },
  {
   "cell_type": "code",
   "execution_count": null,
   "id": "cc1fdae8",
   "metadata": {},
   "outputs": [],
   "source": [
    "# save the dataframe \n",
    "df_merged.to_csv(getPath(FILES.minable))"
   ]
  }
 ],
 "metadata": {
  "kernelspec": {
   "display_name": "Python 3 (ipykernel)",
   "language": "python",
   "name": "python3"
  },
  "language_info": {
   "codemirror_mode": {
    "name": "ipython",
    "version": 3
   },
   "file_extension": ".py",
   "mimetype": "text/x-python",
   "name": "python",
   "nbconvert_exporter": "python",
   "pygments_lexer": "ipython3",
   "version": "3.8.12"
  }
 },
 "nbformat": 4,
 "nbformat_minor": 5
}
