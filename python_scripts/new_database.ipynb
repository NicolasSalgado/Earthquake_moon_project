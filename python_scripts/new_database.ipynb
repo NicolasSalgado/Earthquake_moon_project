{
 "cells": [
  {
   "cell_type": "code",
   "execution_count": null,
   "id": "abc2039d",
   "metadata": {},
   "outputs": [],
   "source": [
    "# Packages that we are going to use in this project\n",
    "import pandas as pd\n",
    "import numpy as np\n",
    "from datetime import datetime, timedelta\n",
    "\n",
    "\n",
    "import sys \n",
    "import os\n",
    "\n",
    "import matplotlib.pyplot as plt\n",
    "import plotly.express as px\n",
    "\n",
    "from statsmodels.tsa.seasonal import seasonal_decompose\n",
    "from statsmodels.graphics.tsaplots import plot_acf\n",
    "\n",
    "from scipy.fftpack import fft\n",
    "from scipy.signal import blackman\n",
    "from scipy.signal import periodogram\n",
    "\n",
    "from sklearn.cluster import KMeans\n",
    "import seaborn as sns; sns.set()\n",
    "from sklearn.preprocessing import MinMaxScaler\n",
    "\n",
    "from functions import *\n",
    "\n",
    "\n",
    "module_path = os.path.abspath(os.path.join('..'))\n",
    "if module_path not in sys.path:\n",
    "    sys.path.append(module_path+\"\\\\df\")\n",
    "from manage_file import FILES, getPath\n",
    "\n"
   ]
  },
  {
   "cell_type": "markdown",
   "id": "9c458eb6",
   "metadata": {},
   "source": [
    "## STEP 1: Read & view of the data"
   ]
  },
  {
   "cell_type": "code",
   "execution_count": null,
   "id": "471821e1",
   "metadata": {},
   "outputs": [],
   "source": [
    "# READ DATA INPUT : earth, moon or minable. \n",
    "df = read_data(file=\"earth\")"
   ]
  },
  {
   "cell_type": "code",
   "execution_count": null,
   "id": "730c32e7",
   "metadata": {},
   "outputs": [],
   "source": [
    "# plot map : recieve dataframe , cluster = Boolean and specific cluster \n",
    "plot_map(df)"
   ]
  },
  {
   "cell_type": "markdown",
   "id": "9bdd68b0",
   "metadata": {},
   "source": [
    "## STEP 2:  __Frequency for a period of time of earthquakes considering magnitude segmentation.__\n",
    "\n",
    "For ex:\n",
    "* period_length = 10 (every 10 years compare)\n",
    "* mag_seg = {magnitude < 4 |  4<= magnitude < 5 | 5 < magnitude }"
   ]
  },
  {
   "cell_type": "code",
   "execution_count": null,
   "id": "4ae2ff25",
   "metadata": {},
   "outputs": [],
   "source": [
    "######## you must want to change these piece of code ########\n",
    "period_length = 10\n",
    "#############################################################\n",
    "df = period_calculation(df, period_length)# how many earthquakes for each period"
   ]
  },
  {
   "cell_type": "code",
   "execution_count": null,
   "id": "98f50571",
   "metadata": {},
   "outputs": [],
   "source": [
    "######## you must want to change these piece of code ########\n",
    "mag_seg = {0: [0,4.6], 1: [4.6,4.9], 2: [4.9,10]} \n",
    "#############################################################\n",
    "df = magnitude_segmentation(df, mag_seg)"
   ]
  },
  {
   "cell_type": "markdown",
   "id": "0bd9faab",
   "metadata": {},
   "source": [
    "### Clustering"
   ]
  },
  {
   "cell_type": "code",
   "execution_count": null,
   "id": "65e9fa63",
   "metadata": {},
   "outputs": [],
   "source": [
    "df = calculate_clustering(df, normalized=False)"
   ]
  },
  {
   "cell_type": "markdown",
   "id": "7820e5cb",
   "metadata": {},
   "source": [
    "# STAGE 2:  Relation between moon and eartquakes"
   ]
  },
  {
   "cell_type": "code",
   "execution_count": null,
   "id": "6427dd9b",
   "metadata": {},
   "outputs": [],
   "source": [
    "# READ DATA INPUT : earth, moon or minable_{period_len}\n",
    "df_moon = read_data(file=\"moon\")"
   ]
  },
  {
   "cell_type": "code",
   "execution_count": null,
   "id": "ef0df3e5",
   "metadata": {},
   "outputs": [],
   "source": [
    "df_merged = pd.merge(df, df_moon, left_on=['year', 'month', 'day'], right_on=['year', 'month', 'day'], how=\"left\")"
   ]
  },
  {
   "cell_type": "code",
   "execution_count": null,
   "id": "e92d06a1",
   "metadata": {},
   "outputs": [],
   "source": [
    "var_name = [\"ill_frac\",\"r/km\", \"dec\"] # variable to interpolate\n",
    "print(df_moon[var_name].describe())\n",
    "#The next line will apply the interpolation. This line will take time. If is not neccesary reapply dont run it\n",
    "# remember that minable has interpolation already done.\n",
    "df_merged = apply_interpolation(df_merged, df_moon, var_name) "
   ]
  },
  {
   "cell_type": "code",
   "execution_count": null,
   "id": "cc1fdae8",
   "metadata": {},
   "outputs": [],
   "source": [
    "# save the dataframe \n",
    "df_merged.to_csv(getPath(FILES.minable))"
   ]
  },
  {
   "cell_type": "markdown",
   "id": "c45b54a5",
   "metadata": {},
   "source": [
    "## ADDED :: Tidal Acceleration\n"
   ]
  },
  {
   "cell_type": "code",
   "execution_count": null,
   "id": "dc714a6f",
   "metadata": {},
   "outputs": [],
   "source": [
    "def particionar(row):\n",
    "    columnas = row.split(\" \")\n",
    "    columnas = [c for c in columnas if c!= \"\"]\n",
    "    for i in range(len(columnas)):\n",
    "        try:\n",
    "            columnas[i] = float(columnas[i])\n",
    "        except:\n",
    "            pass\n",
    "    return columnas\n",
    "def create_tidal_demo():\n",
    "    ano = 1973\n",
    "    info = []\n",
    "    for i in range(len(df_td)):\n",
    "        if not pd.isna(df_td.iloc[i,8]):\n",
    "            ano = int(df_td.iloc[i,8])\n",
    "        if (not pd.isna(df_td.iloc[i,0])):\n",
    "            if (df_td.iloc[i,0] == \"D E M O\"):\n",
    "                r = [ano,info[-1][1], info[-1][2]+1, \" \", \" \", \" \", \" \", \" \", \" \", \" \", \" \"]\n",
    "            else:\n",
    "                r = particionar(df_td.iloc[i,0])\n",
    "                r.insert(0, ano)\n",
    "            info.append(r)\n",
    "    df_tidal = pd.DataFrame(info, columns = [\"year\",\"month\",\"day\",\"r/km\", \"arcmin\", \"phase\", \"dist/km\", \"arcmin2\", \"td_acc\", \"dist/au\", \"F(EM)/F(SM)\"])\n",
    "    \n",
    "    \n",
    "meses_abreviados = {\n",
    "    \"jan\": 1,\n",
    "    \"feb\": 2,\n",
    "    \"mar\": 3,\n",
    "    \"apr\": 4,\n",
    "    \"may\": 5,\n",
    "    \"jun\": 6,\n",
    "    \"jul\": 7,\n",
    "    \"aug\": 8,\n",
    "    \"sep\": 9,\n",
    "    \"oct\": 10,\n",
    "    \"nov\": 11,\n",
    "    \"dec\": 12\n",
    "}\n",
    "df_td = df_td[['year', 'month', 'day', 'td_acc']]\n",
    "df_td[\"month\"] = df_td[\"month\"].apply(lambda x: meses_abreviados.get(x.lower(), None))"
   ]
  }
 ],
 "metadata": {
  "kernelspec": {
   "display_name": "Python 3 (ipykernel)",
   "language": "python",
   "name": "python3"
  },
  "language_info": {
   "codemirror_mode": {
    "name": "ipython",
    "version": 3
   },
   "file_extension": ".py",
   "mimetype": "text/x-python",
   "name": "python",
   "nbconvert_exporter": "python",
   "pygments_lexer": "ipython3",
   "version": "3.8.12"
  }
 },
 "nbformat": 4,
 "nbformat_minor": 5
}
